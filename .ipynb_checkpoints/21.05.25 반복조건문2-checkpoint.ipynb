{
 "cells": [
  {
   "cell_type": "code",
   "execution_count": 42,
   "id": "0d58cd64",
   "metadata": {},
   "outputs": [
    {
     "name": "stdout",
     "output_type": "stream",
     "text": [
      "*********\n",
      " *********\n",
      "  *********\n",
      "   *********\n",
      "    *********\n",
      "     *********\n",
      "      *********\n",
      "       *********\n",
      "        *********\n",
      "         *********\n"
     ]
    }
   ],
   "source": [
    "for i in range(1, 11):\n",
    "    #숫자 출력 파트\n",
    "    for j in range(1, i):\n",
    "        print(\" \", end=\"\")\n",
    "    # 별 출력 파트\n",
    "    for j in range(1, 10):\n",
    "        print(\"*\", end=\"\")\n",
    "    print('')"
   ]
  },
  {
   "cell_type": "code",
   "execution_count": 60,
   "id": "8ae72c1d",
   "metadata": {},
   "outputs": [
    {
     "name": "stdout",
     "output_type": "stream",
     "text": [
      "**********\n",
      " **********\n",
      "  **********\n",
      "   **********\n",
      "    **********\n",
      "     **********\n",
      "      **********\n",
      "       **********\n",
      "        **********\n",
      "         **********\n"
     ]
    }
   ],
   "source": [
    "# 정답\n",
    "for hang in range(10):\n",
    "    # 빈칸출력\n",
    "    for space in range(0,hang):\n",
    "        print(\" \",end=\"\")\n",
    "    # 별출력\n",
    "    for star in range(10):\n",
    "        print(\"*\" ,end=\"\")\n",
    "    print('')"
   ]
  },
  {
   "cell_type": "code",
   "execution_count": 86,
   "id": "5b40b3e4",
   "metadata": {},
   "outputs": [
    {
     "name": "stdout",
     "output_type": "stream",
     "text": [
      "104\n"
     ]
    }
   ],
   "source": [
    "count_up = 0\n",
    "for a in range(1, 101):\n",
    "    for b in range(1, 101):\n",
    "        for c in range(1, 101):\n",
    "            if (a*a)+(b*b)==(c*c):\n",
    "                count_up+=1\n",
    "print(count_up)"
   ]
  },
  {
   "cell_type": "code",
   "execution_count": 1,
   "id": "af1bcbb5",
   "metadata": {
    "scrolled": true
   },
   "outputs": [
    {
     "name": "stdout",
     "output_type": "stream",
     "text": [
      "720"
     ]
    }
   ],
   "source": [
    "# 1~999까지 자리수의 수가 서로 다른 수의 개수\n",
    "# ( 나눗셈 후 몫을 반환하는 연산자 -> //, 나눗셈 후 나머지를 반환하는 연산자 -> %), (count_up 개수 함수)\n",
    "count_up = 0\n",
    "for num in range (1, 1000):\n",
    "    d100 = (num//100)\n",
    "    d10 = ((num%100)//10)\n",
    "    d1 = (num%10)\n",
    "    if d100!=d10!=d1!=d100: #d100, d10, d1이 각각 다른 숫자만 카운트(개수)\n",
    "            count_up+=1\n",
    "print(count_up)"
   ]
  },
  {
   "cell_type": "code",
   "execution_count": 3,
   "id": "dc0a12b3",
   "metadata": {},
   "outputs": [
    {
     "name": "stdout",
     "output_type": "stream",
     "text": [
      "720 개\n"
     ]
    }
   ],
   "source": [
    "# 정답\n",
    "count_up = 0\n",
    "# 자리수 별 숫자 빼오기\n",
    "for num in range (1000):\n",
    "    d100 = (num//100)\n",
    "    d10 = ((num%100)//10)\n",
    "    d1 = (num%10)\n",
    "# if 함수를 이용해 자리수 불일치 개수 빼오기    \n",
    "    if d100 != d10 and d10 != d1 and d100 != d1:\n",
    "        count_up +=1\n",
    "print(count_up, \"개\")"
   ]
  },
  {
   "cell_type": "code",
   "execution_count": 10,
   "id": "ffe4c85d",
   "metadata": {},
   "outputs": [
    {
     "name": "stdout",
     "output_type": "stream",
     "text": [
      "1\n"
     ]
    }
   ],
   "source": [
    "# 3의 2016승의 마지막 자리 숫자(1의 자리수)는 1, 이과정을 프로그램을 이용\n",
    "num = 1\n",
    "for i in range(2016):\n",
    "    num*=3 #3의 2제곱, 3의 3제곱, N제곱 -> i\n",
    "    if i ==2015:\n",
    "        d1_of_num = num%10\n",
    "print(d1_of_num)"
   ]
  },
  {
   "cell_type": "code",
   "execution_count": 11,
   "id": "07c3df2e",
   "metadata": {},
   "outputs": [
    {
     "data": {
      "text/plain": [
       "1"
      ]
     },
     "execution_count": 11,
     "metadata": {},
     "output_type": "execute_result"
    }
   ],
   "source": [
    "# 이렇게도 가능\n",
    "(3**2016)%10"
   ]
  },
  {
   "cell_type": "code",
   "execution_count": 20,
   "id": "f780c3c6",
   "metadata": {
    "scrolled": true
   },
   "outputs": [
    {
     "ename": "SyntaxError",
     "evalue": "invalid syntax (<ipython-input-20-aaec6e44257b>, line 6)",
     "output_type": "error",
     "traceback": [
      "\u001b[1;36m  File \u001b[1;32m\"<ipython-input-20-aaec6e44257b>\"\u001b[1;36m, line \u001b[1;32m6\u001b[0m\n\u001b[1;33m    i%2!==0:\u001b[0m\n\u001b[1;37m         ^\u001b[0m\n\u001b[1;31mSyntaxError\u001b[0m\u001b[1;31m:\u001b[0m invalid syntax\n"
     ]
    }
   ],
   "source": [
    "# 내가 한거(실패함)\n",
    "num=int(input(\"수 입력:\"))\n",
    "for num in range(682):\n",
    "    if num%2==0:\n",
    "        print(num / 2)\n",
    "    else:\n",
    "        i%2!==0:\n",
    "            print((i*3+1)/2)"
   ]
  },
  {
   "cell_type": "code",
   "execution_count": 1,
   "id": "97079d0e",
   "metadata": {},
   "outputs": [
    {
     "name": "stdout",
     "output_type": "stream",
     "text": [
      "수 입력:5\n",
      "8/4/2/count: 4\n"
     ]
    }
   ],
   "source": [
    "# 정답\n",
    "num = int(input(\"수 입력:\")) # 정수처리 \n",
    "proc_count = 0 # 실행횟수 카운트\n",
    "while True: # 일단 값이 정해져있지 않으니까 무한루프\n",
    "    if num %2 == 0: # 2로 나누었을때 0 = 그러니까 짝수일때~\n",
    "        num = int(num/2) # 그 값을 2로 나누어라\n",
    "    else: #그게 아니면 (홀수일때~)\n",
    "        num = int((3 * num +1)/2) # 그 값에 3을 곱하고 1을 더해서 2로 나누고\n",
    "    proc_count+=1 # 이 과정을 카운트 해라\n",
    "    if num == 1: break # 만약 그 값이 1이면 그만해라\n",
    "    print(num, end=\"/\")\n",
    "    \n",
    "print (\"count:\", proc_count)"
   ]
  },
  {
   "cell_type": "code",
   "execution_count": 6,
   "id": "0f44c224",
   "metadata": {},
   "outputs": [
    {
     "name": "stdout",
     "output_type": "stream",
     "text": [
      "안녕하세요1\n",
      "안녕하세요2\n",
      "안녕하세요3\n"
     ]
    }
   ],
   "source": [
    "# 반복 수행 명령문\n",
    "def hello_5():\n",
    "    print(\"안녕하세요1\")\n",
    "    print(\"안녕하세요2\")\n",
    "    print(\"안녕하세요3\")\n",
    "\n",
    "hello_5()"
   ]
  },
  {
   "cell_type": "code",
   "execution_count": 1,
   "id": "f4774a21",
   "metadata": {},
   "outputs": [
    {
     "name": "stdout",
     "output_type": "stream",
     "text": [
      "숫자 1:1\n",
      "숫자 2:2\n",
      "3\n"
     ]
    }
   ],
   "source": [
    "def add(a, b):\n",
    "    c = a + b\n",
    "    return c\n",
    "\n",
    "num1 = int(input(\"숫자 1:\"))\n",
    "num2 = int(input(\"숫자 2:\"))\n",
    "result = add(num1, num2)\n",
    "print(result)"
   ]
  },
  {
   "cell_type": "code",
   "execution_count": 9,
   "id": "ae79bc3d",
   "metadata": {},
   "outputs": [
    {
     "name": "stdout",
     "output_type": "stream",
     "text": [
      "hi\n"
     ]
    }
   ],
   "source": [
    "def say_hi():\n",
    "    return \"hi\"\n",
    "print(say_hi())"
   ]
  },
  {
   "cell_type": "code",
   "execution_count": 10,
   "id": "7222d2c4",
   "metadata": {},
   "outputs": [
    {
     "name": "stdout",
     "output_type": "stream",
     "text": [
      "hi\n"
     ]
    }
   ],
   "source": [
    "def say_hi_dont_care():\n",
    "    print(\"hi\")\n",
    "say_hi_dont_care()"
   ]
  },
  {
   "cell_type": "code",
   "execution_count": 11,
   "id": "03379cf1",
   "metadata": {},
   "outputs": [
    {
     "name": "stdout",
     "output_type": "stream",
     "text": [
      "hi\n"
     ]
    }
   ],
   "source": [
    "def say_hi_dont_care2(a):\n",
    "    print(a)\n",
    "say_hi_dont_care2(\"hi\")"
   ]
  },
  {
   "cell_type": "code",
   "execution_count": 14,
   "id": "165a8c8b",
   "metadata": {},
   "outputs": [
    {
     "name": "stdout",
     "output_type": "stream",
     "text": [
      "2\n",
      "-2\n",
      "2\n",
      "2\n"
     ]
    }
   ],
   "source": [
    "def sub2(a, b):\n",
    "    return a - b\n",
    "print(sub2(4, 2))\n",
    "print(sub2(2, 4))\n",
    "print(sub2(a=4, b=2))\n",
    "print(sub2(b=2, a=4))"
   ]
  },
  {
   "cell_type": "code",
   "execution_count": 16,
   "id": "f1347fd3",
   "metadata": {},
   "outputs": [
    {
     "name": "stdout",
     "output_type": "stream",
     "text": [
      "3\n",
      "10\n"
     ]
    }
   ],
   "source": [
    "def add_many(*args): #*args 앞에 *를 붙이면 입력값을 전부 모아서 튜플로 만들어준다(list처리)\n",
    "    result = 0\n",
    "    for i in args:\n",
    "        result = result + i\n",
    "    return result\n",
    "print(add_many(1,2))\n",
    "print(add_many(1,2,3,4))"
   ]
  },
  {
   "cell_type": "code",
   "execution_count": 18,
   "id": "3b95b70e",
   "metadata": {},
   "outputs": [
    {
     "name": "stdout",
     "output_type": "stream",
     "text": [
      "3\n",
      "24\n"
     ]
    }
   ],
   "source": [
    "def add_many(mode,*args):\n",
    "    if mode ==\"sum\":\n",
    "        result = 0\n",
    "        for i in args: result+=i\n",
    "    elif mode ==\"mul\":\n",
    "        result=1\n",
    "        for i in args: result*=i\n",
    "    return result\n",
    "print(add_many(\"sum\",1,2))\n",
    "print(add_many(\"mul\",1,2,3,4))"
   ]
  },
  {
   "cell_type": "code",
   "execution_count": 19,
   "id": "ee89bd81",
   "metadata": {},
   "outputs": [
    {
     "name": "stdout",
     "output_type": "stream",
     "text": [
      "{'a': 1}\n"
     ]
    }
   ],
   "source": [
    "def print_kwa(**a): #** 두개일 경우 dictionary 처리\n",
    "    print(a)\n",
    "print_kwa(a=1)"
   ]
  },
  {
   "cell_type": "code",
   "execution_count": 24,
   "id": "fb03b790",
   "metadata": {},
   "outputs": [
    {
     "name": "stdout",
     "output_type": "stream",
     "text": [
      "3\n",
      "c:3,d:2\n"
     ]
    }
   ],
   "source": [
    "def add2(a, b): # 하나만 할 경우\n",
    "    return a+b\n",
    "c = add2(1, 2)\n",
    "print(c)\n",
    "\n",
    "def add_and_mul(a,b):\n",
    "    return a+b, a*b\n",
    "c, d = add_and_mul(1,2)\n",
    "print(\"c:\"+str(c)+\",d:\"+str(d))"
   ]
  },
  {
   "cell_type": "code",
   "execution_count": 25,
   "id": "e2bdf4d5",
   "metadata": {
    "scrolled": true
   },
   "outputs": [
    {
     "name": "stdout",
     "output_type": "stream",
     "text": [
      "8\n",
      "11\n",
      "14\n"
     ]
    }
   ],
   "source": [
    "def my_classify(a, b, c=1, d=2):\n",
    "    print(a+b+c+d)\n",
    "my_classify(2, 3)\n",
    "my_classify(2, 3, 4)\n",
    "my_classify(2, 3, 4, 5)"
   ]
  },
  {
   "cell_type": "code",
   "execution_count": 26,
   "id": "cad3e6da",
   "metadata": {},
   "outputs": [
    {
     "name": "stdout",
     "output_type": "stream",
     "text": [
      "1\n"
     ]
    }
   ],
   "source": [
    "a = 1 #전역변수\n",
    "def vartest(a):\n",
    "    a = a + 1 #vartest함수의 지역변수 그러니까 전역변수 안에 지역변수 포함\n",
    "vartest(a)\n",
    "print(a)"
   ]
  },
  {
   "cell_type": "code",
   "execution_count": 27,
   "id": "20f9ceaa",
   "metadata": {},
   "outputs": [
    {
     "name": "stdout",
     "output_type": "stream",
     "text": [
      "2\n"
     ]
    }
   ],
   "source": [
    "a = 1 #전역변수\n",
    "def vartest(a):\n",
    "    a = a + 1 \n",
    "    return a #return함수를 이용해서 vartest함수 적용시키기\n",
    "a = vartest(a)\n",
    "print(a)"
   ]
  },
  {
   "cell_type": "code",
   "execution_count": 28,
   "id": "773fd216",
   "metadata": {},
   "outputs": [
    {
     "name": "stdout",
     "output_type": "stream",
     "text": [
      "2\n"
     ]
    }
   ],
   "source": [
    "a = 1\n",
    "def vartest():\n",
    "    global a\n",
    "    a = a + 1 #vartest함수의 지역변수 그러니까 전역변수 안에 지역변수 포함\n",
    "vartest()\n",
    "print(a)"
   ]
  },
  {
   "cell_type": "code",
   "execution_count": 29,
   "id": "52336c6a",
   "metadata": {},
   "outputs": [
    {
     "name": "stdout",
     "output_type": "stream",
     "text": [
      "7\n"
     ]
    }
   ],
   "source": [
    "# lambda 함수\n",
    "add_lam = lambda a, b: a + b\n",
    "res = add_lam(3, 4)\n",
    "print(res)"
   ]
  },
  {
   "cell_type": "code",
   "execution_count": 31,
   "id": "bf60dcbc",
   "metadata": {
    "scrolled": true
   },
   "outputs": [
    {
     "name": "stdout",
     "output_type": "stream",
     "text": [
      "life is too short\n",
      "life is too short\n"
     ]
    }
   ],
   "source": [
    "print(\"life is too short\")\n",
    "print(\"life\", \"is\", \"too short\")"
   ]
  },
  {
   "cell_type": "code",
   "execution_count": 33,
   "id": "c18ea5af",
   "metadata": {},
   "outputs": [
    {
     "name": "stdout",
     "output_type": "stream",
     "text": [
      "a b c\n",
      "a/b/c\n"
     ]
    }
   ],
   "source": [
    "print(\"a\", \"b\", \"c\")\n",
    "print(\"a\", \"b\", \"c\", sep=\"/\")"
   ]
  },
  {
   "cell_type": "code",
   "execution_count": 36,
   "id": "c4147023",
   "metadata": {},
   "outputs": [],
   "source": [
    "# 파일 열기(r -> 읽기모드, w -> 쓰기모드, a -> 추가모드) #f.close() 빼먹지 않게 주의\n",
    "f = open(\"새파일.txt\", \"w\")\n",
    "for i in range(1,11):\n",
    "    data=\"%d번째 줄입니다.\\n\" % i\n",
    "    f.write(data)\n",
    "f.close()"
   ]
  },
  {
   "cell_type": "code",
   "execution_count": 37,
   "id": "2c9e3c43",
   "metadata": {},
   "outputs": [],
   "source": [
    "f = open(\"새파일2.txt\", \"w\")\n",
    "f.write(\"하이\")\n",
    "f.close()"
   ]
  },
  {
   "cell_type": "code",
   "execution_count": 38,
   "id": "74a45040",
   "metadata": {},
   "outputs": [
    {
     "name": "stdout",
     "output_type": "stream",
     "text": [
      "1번째 줄입니다.\n",
      "\n"
     ]
    }
   ],
   "source": [
    "f = open(\"새파일.txt\", \"r\")\n",
    "line = f.readline()\n",
    "print(line)\n",
    "f.close()"
   ]
  },
  {
   "cell_type": "code",
   "execution_count": null,
   "id": "ba984318",
   "metadata": {},
   "outputs": [],
   "source": [
    "f = open(\"새파일.txt\", \"r\")\n",
    "line = f.readline()\n",
    "print(line)\n",
    "f.close()"
   ]
  },
  {
   "cell_type": "code",
   "execution_count": 45,
   "id": "9971022d",
   "metadata": {},
   "outputs": [
    {
     "name": "stdout",
     "output_type": "stream",
     "text": [
      "하이하이하이하이  하이하이2  하이하이34  ['하이하이하이하이 ', '하이하이2 ', '하이하이34 ']\n"
     ]
    }
   ],
   "source": [
    "f = open(\"새파일2.txt\", \"r\")\n",
    "list1 = []\n",
    "list2 = []\n",
    "while True:\n",
    "    line1 = f.readline()\n",
    "    if not line1: break\n",
    "    list1.append(line1)\n",
    "f.close()\n",
    "for item in list1:\n",
    "    processed = item.replace(\"\\n\",\" \")\n",
    "    print(processed,end=\" \")\n",
    "    list2.append(processed)\n",
    "print(list2)"
   ]
  },
  {
   "cell_type": "code",
   "execution_count": null,
   "id": "aeec99d6",
   "metadata": {},
   "outputs": [],
   "source": []
  }
 ],
 "metadata": {
  "kernelspec": {
   "display_name": "Python 3",
   "language": "python",
   "name": "python3"
  },
  "language_info": {
   "codemirror_mode": {
    "name": "ipython",
    "version": 3
   },
   "file_extension": ".py",
   "mimetype": "text/x-python",
   "name": "python",
   "nbconvert_exporter": "python",
   "pygments_lexer": "ipython3",
   "version": "3.8.8"
  }
 },
 "nbformat": 4,
 "nbformat_minor": 5
}
