{
 "cells": [
  {
   "cell_type": "code",
   "execution_count": 42,
   "id": "e045a467",
   "metadata": {},
   "outputs": [
    {
     "name": "stdout",
     "output_type": "stream",
     "text": [
      "*********\n",
      " *********\n",
      "  *********\n",
      "   *********\n",
      "    *********\n",
      "     *********\n",
      "      *********\n",
      "       *********\n",
      "        *********\n",
      "         *********\n"
     ]
    }
   ],
   "source": [
    "for i in range(1, 11):\n",
    "    #숫자 출력 파트\n",
    "    for j in range(1, i):\n",
    "        print(\" \", end=\"\")\n",
    "    # 별 출력 파트\n",
    "    for j in range(1, 10):\n",
    "        print(\"*\", end=\"\")\n",
    "    print('')"
   ]
  },
  {
   "cell_type": "code",
   "execution_count": 60,
   "id": "6582d0b8",
   "metadata": {},
   "outputs": [
    {
     "name": "stdout",
     "output_type": "stream",
     "text": [
      "**********\n",
      " **********\n",
      "  **********\n",
      "   **********\n",
      "    **********\n",
      "     **********\n",
      "      **********\n",
      "       **********\n",
      "        **********\n",
      "         **********\n"
     ]
    }
   ],
   "source": [
    "# 정답\n",
    "for hang in range(10):\n",
    "    # 빈칸출력\n",
    "    for space in range(0,hang):\n",
    "        print(\" \",end=\"\")\n",
    "    # 별출력\n",
    "    for star in range(10):\n",
    "        print(\"*\" ,end=\"\")\n",
    "    print('')"
   ]
  },
  {
   "cell_type": "code",
   "execution_count": 86,
   "id": "8cf6f6bf",
   "metadata": {},
   "outputs": [
    {
     "name": "stdout",
     "output_type": "stream",
     "text": [
      "104\n"
     ]
    }
   ],
   "source": [
    "count_up = 0\n",
    "for a in range(1, 101):\n",
    "    for b in range(1, 101):\n",
    "        for c in range(1, 101):\n",
    "            if (a*a)+(b*b)==(c*c):\n",
    "                count_up+=1\n",
    "print(count_up)"
   ]
  },
  {
   "cell_type": "code",
   "execution_count": 1,
   "id": "3b03d53f",
   "metadata": {
    "scrolled": true
   },
   "outputs": [
    {
     "name": "stdout",
     "output_type": "stream",
     "text": [
      "720"
     ]
    }
   ],
   "source": [
    "# 1~999까지 자리수의 수가 서로 다른 수의 개수\n",
    "# ( 나눗셈 후 몫을 반환하는 연산자 -> //, 나눗셈 후 나머지를 반환하는 연산자 -> %), (count_up 개수 함수)\n",
    "count_up = 0\n",
    "for num in range (1, 1000):\n",
    "    d100 = (num//100)\n",
    "    d10 = ((num%100)//10)\n",
    "    d1 = (num%10)\n",
    "    if d100!=d10!=d1!=d100: #d100, d10, d1이 각각 다른 숫자만 카운트(개수)\n",
    "            count_up+=1\n",
    "print(count_up, end=\"\")"
   ]
  },
  {
   "cell_type": "code",
   "execution_count": 2,
   "id": "4fb94f88",
   "metadata": {},
   "outputs": [
    {
     "name": "stdout",
     "output_type": "stream",
     "text": [
      "720 개\n"
     ]
    }
   ],
   "source": [
    "# 정답\n",
    "count_up = 0\n",
    "# 자리수 별 숫자 빼오기\n",
    "for num in range (1, 1000):\n",
    "    d100 = (num//100)\n",
    "    d10 = ((num%100)//10)\n",
    "    d1 = (num%10)\n",
    "# if 함수를 이용해 자리수 불일치 개수 빼오기    \n",
    "    if d100 != d10 and d10 != d1 and d100 != d1:\n",
    "        count_up +=1\n",
    "print(count_up, \"개\")"
   ]
  },
  {
   "cell_type": "code",
   "execution_count": null,
   "id": "c66cd8a1",
   "metadata": {},
   "outputs": [],
   "source": []
  }
 ],
 "metadata": {
  "kernelspec": {
   "display_name": "Python 3",
   "language": "python",
   "name": "python3"
  },
  "language_info": {
   "codemirror_mode": {
    "name": "ipython",
    "version": 3
   },
   "file_extension": ".py",
   "mimetype": "text/x-python",
   "name": "python",
   "nbconvert_exporter": "python",
   "pygments_lexer": "ipython3",
   "version": "3.8.8"
  }
 },
 "nbformat": 4,
 "nbformat_minor": 5
}
