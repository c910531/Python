{
 "cells": [
  {
   "cell_type": "code",
   "execution_count": 7,
   "id": "81f212ba",
   "metadata": {},
   "outputs": [],
   "source": [
    "with open(\"C:/workspace/Python/새파일2.txt\", \"a\") as f:\n",
    "    f.write(\"ㅋㅎㅋㅎ\")"
   ]
  },
  {
   "cell_type": "code",
   "execution_count": 11,
   "id": "642601ea",
   "metadata": {},
   "outputs": [
    {
     "name": "stdout",
     "output_type": "stream",
     "text": [
      "6\n",
      "10\n"
     ]
    }
   ],
   "source": [
    "## 객체지향 FourCal 클래스\n",
    "\n",
    "class FourCal:\n",
    "    #self.first\n",
    "    #self.second\n",
    "    def setdata(self, a, b):\n",
    "        self.first = a\n",
    "        self.second = b\n",
    "    def add(self):\n",
    "        result = self.first + self.second\n",
    "        return result\n",
    "    def mul(self):\n",
    "        result = self.first * self.second\n",
    "        return result\n",
    "aCal = FourCal()\n",
    "bCal = FourCal()\n",
    "aCal.setdata(4, 2)\n",
    "print(aCal.add())\n",
    "bCal.setdata(3,7)\n",
    "print(bCal.add())"
   ]
  },
  {
   "cell_type": "code",
   "execution_count": 12,
   "id": "0a533e72",
   "metadata": {},
   "outputs": [
    {
     "name": "stdout",
     "output_type": "stream",
     "text": [
      "6\n",
      "10\n"
     ]
    }
   ],
   "source": [
    "## 객체지향 FourCal 클래스\n",
    "\n",
    "class FourCal:\n",
    "    #self.first\n",
    "    #self.second\n",
    "    def __init__(self, a, b):\n",
    "        self.first = a\n",
    "        self.second = b\n",
    "    def add(self):\n",
    "        result = self.first + self.second\n",
    "        return result\n",
    "    def mul(self):\n",
    "        result = self.first * self.second\n",
    "        return result\n",
    "aCal = FourCal(4,2) # 미리 값을 설정할 경우 추후 setdata로 따로 지정 안해도 연산 가능\n",
    "bCal = FourCal(3,7)\n",
    "print(aCal.add())\n",
    "print(bCal.add())"
   ]
  },
  {
   "cell_type": "code",
   "execution_count": 18,
   "id": "61c790bb",
   "metadata": {},
   "outputs": [
    {
     "name": "stdout",
     "output_type": "stream",
     "text": [
      "6\n",
      "4.0000000000000005e+21\n"
     ]
    }
   ],
   "source": [
    "class FourCal:\n",
    "    #self.first\n",
    "    #self.second\n",
    "    def __init__(self, a, b):\n",
    "        self.first = a\n",
    "        self.second = b\n",
    "    def add(self):\n",
    "        result = self.first + self.second\n",
    "        return result\n",
    "    def mul(self):\n",
    "        result = self.first * self.second\n",
    "        return result\n",
    "    def div(self):\n",
    "        result = self.first / self.second\n",
    "        return result\n",
    "    \n",
    "class MoreFourCal(FourCal):  #클래스를 상속해서 기능 사용\n",
    "    pass\n",
    "\n",
    "c = MoreFourCal(4, 2)\n",
    "d = c.add()\n",
    "print(d)\n",
    "\n",
    "class MoreFourCal(FourCal):  #클래스를 상속해서 기능 사용2\n",
    "    def pow(self):\n",
    "        result = self.first**self.second\n",
    "        return result\n",
    "    def div(self):\n",
    "        if self.second == 0: # 분모 0 대입시 오류 방지용 if를 설정\n",
    "            self.second = 0.000000000000000000001\n",
    "        result = self.first/self.second\n",
    "        return result\n",
    "    \n",
    "c = MoreFourCal(4, 0) # 분모에 0이 대입되면 오류 ex(MoreFourCal(4,0))\n",
    "d = c.div()\n",
    "print(d)"
   ]
  },
  {
   "cell_type": "code",
   "execution_count": 20,
   "id": "e89abaea",
   "metadata": {
    "scrolled": true
   },
   "outputs": [
    {
     "name": "stdout",
     "output_type": "stream",
     "text": [
      "4 3.14\n"
     ]
    }
   ],
   "source": [
    "class MyMath:\n",
    "    MyPI = 3.14\n",
    "\n",
    "mm1 = MyMath()\n",
    "mm1.MyPI = 4\n",
    "mm2 = MyMath()\n",
    "print(mm1.MyPI, mm2.MyPI)"
   ]
  },
  {
   "cell_type": "code",
   "execution_count": 31,
   "id": "bf89948d",
   "metadata": {},
   "outputs": [
    {
     "name": "stdout",
     "output_type": "stream",
     "text": [
      "7\n",
      "-1\n"
     ]
    }
   ],
   "source": [
    "import mod1\n",
    "print(mod1.add_mod1(3,4))\n",
    "print(mod1.sub_mod1(3,4))"
   ]
  },
  {
   "cell_type": "code",
   "execution_count": 32,
   "id": "e1a55acd",
   "metadata": {},
   "outputs": [
    {
     "name": "stdout",
     "output_type": "stream",
     "text": [
      "7\n",
      "-1\n"
     ]
    }
   ],
   "source": [
    "from mod1 import add_mod1, sub_mod1 # from .. import .. 로 미리 지정 후 연산처리(from mod1 import * 전체소환가능)\n",
    "print(add_mod1(3,4))\n",
    "print(sub_mod1(3,4))"
   ]
  },
  {
   "cell_type": "code",
   "execution_count": 34,
   "id": "f999c473",
   "metadata": {},
   "outputs": [
    {
     "name": "stdout",
     "output_type": "stream",
     "text": [
      "7\n",
      "-1\n"
     ]
    }
   ],
   "source": [
    "import mod1 as m1 #(as를 이용해 짧게 변수명 수정 후 사용)\n",
    "print(m1.add_mod1(3,4))\n",
    "print(m1.sub_mod1(3,4))"
   ]
  },
  {
   "cell_type": "code",
   "execution_count": 41,
   "id": "799267a1",
   "metadata": {},
   "outputs": [
    {
     "name": "stdout",
     "output_type": "stream",
     "text": [
      "7\n",
      "3.14\n",
      "12.56\n"
     ]
    }
   ],
   "source": [
    "import mod2\n",
    "print(mod2.add_mod2(3,4))\n",
    "print(mod2.PI)\n",
    "mm2 = mod2.Math_mod2()\n",
    "print(mm2.solve(2))"
   ]
  },
  {
   "cell_type": "code",
   "execution_count": 42,
   "id": "50ce7355",
   "metadata": {},
   "outputs": [],
   "source": [
    "import numpy as np\n",
    "import pandas as pd\n",
    "import matplotlib.pyplot as plt"
   ]
  },
  {
   "cell_type": "code",
   "execution_count": 45,
   "id": "dbe0afb2",
   "metadata": {},
   "outputs": [
    {
     "name": "stdout",
     "output_type": "stream",
     "text": [
      "4e+22\n"
     ]
    }
   ],
   "source": [
    "try:\n",
    "    4/0\n",
    "except ZeroDivisionError as e:\n",
    "    print(4/0.0000000000000000000001)\n",
    "    #print(e)\n",
    "except"
   ]
  },
  {
   "cell_type": "code",
   "execution_count": 53,
   "id": "a20db360",
   "metadata": {},
   "outputs": [
    {
     "name": "stdout",
     "output_type": "stream",
     "text": [
      "[1, 2, 6]\n",
      "[1, 2, 6]\n",
      "[1, 2, 6]\n"
     ]
    },
    {
     "data": {
      "text/plain": [
       "[1, 2, 6]"
      ]
     },
     "execution_count": 53,
     "metadata": {},
     "output_type": "execute_result"
    }
   ],
   "source": [
    "# 자주쓰는 문법\n",
    "abs(-3) # 절대값 출력\n",
    "\n",
    "def positive(l):\n",
    "    result=[]\n",
    "    for i in l:\n",
    "        if i > 0:\n",
    "            result.append(i)\n",
    "    return result\n",
    "print(positive([1, -3, 2, 0, -5, 6]))\n",
    "\n",
    "#filter를 사용해서 간결하게\n",
    "def positive(x):\n",
    "    return x > 0\n",
    "print(list(filter(positive, [1, -3, 2, 0, -5, 6])))\n",
    "\n",
    "#filter를 사용해서 간결하게 2\n",
    "def positive(x):\n",
    "    return x > 0\n",
    "data = [1, -3, 2, 0, -5, 6]\n",
    "f = filter(positive, data)\n",
    "print(list(f))\n",
    "\n",
    "# lambda를 이용해서 간결하게\n",
    "data = [1, -3, 2, 0, -5, 6]\n",
    "list(filter(lambda x: x>0, data))"
   ]
  },
  {
   "cell_type": "code",
   "execution_count": 56,
   "id": "95848219",
   "metadata": {},
   "outputs": [
    {
     "name": "stdout",
     "output_type": "stream",
     "text": [
      "숫자를 입력하세요2\n",
      "3\n"
     ]
    }
   ],
   "source": [
    "a = int(input(\"숫자를 입력하세요\")) # int처리 없이는 숫자처리가 안되어있어 a = a + 1 넣을시 오류\n",
    "a = a + 1\n",
    "print(a)"
   ]
  },
  {
   "cell_type": "code",
   "execution_count": 64,
   "id": "a8cdf7e3",
   "metadata": {},
   "outputs": [
    {
     "name": "stdout",
     "output_type": "stream",
     "text": [
      "숫자 두개를 입력하세요10 20\n",
      "12 그리고 22\n"
     ]
    }
   ],
   "source": [
    "a, b= input(\"숫자 두개를 입력하세요\").split()\n",
    "a = int(a)\n",
    "b = int(b)\n",
    "print(a+2,\"그리고\", b+2)"
   ]
  },
  {
   "cell_type": "code",
   "execution_count": 67,
   "id": "5470501e",
   "metadata": {},
   "outputs": [
    {
     "name": "stdout",
     "output_type": "stream",
     "text": [
      "숫자 두개를 입력하세요10 20\n",
      "12 그리고 22\n",
      "숫자 다섯개를 입력1 2 3 4 5\n",
      "2 3 4 5 6\n"
     ]
    }
   ],
   "source": [
    "# map을 이용해서 간결하게\n",
    "a, b= map(int, input(\"숫자 두개를 입력하세요\").split())\n",
    "print(a+2,\"그리고\", b+2)\n",
    "\n",
    "# map을 이용해서 응용\n",
    "a, b, c, d, e = map(int, input(\"숫자 다섯개를 입력\").split())\n",
    "print(a+1,b+1,c+1,d+1,e+1)"
   ]
  },
  {
   "cell_type": "code",
   "execution_count": 71,
   "id": "8326890f",
   "metadata": {},
   "outputs": [
    {
     "data": {
      "text/plain": [
       "[(1, 4, 7), (2, 5, 8), (3, 6, 9)]"
      ]
     },
     "execution_count": 71,
     "metadata": {},
     "output_type": "execute_result"
    }
   ],
   "source": [
    "# zip을 이용해서 자료 묶기\n",
    "data1 = [1,2,3]\n",
    "data2 = [4,5,6]\n",
    "list(zip(data1, data2))\n",
    "\n",
    "# zip을 이용해서 자료 묶기2\n",
    "data1 = [1,2,3]\n",
    "data2 = [4,5,6]\n",
    "data3 = [7,8,9]\n",
    "list(zip(data1, data2, data3))"
   ]
  },
  {
   "cell_type": "code",
   "execution_count": 72,
   "id": "ce0adb8f",
   "metadata": {
    "scrolled": true
   },
   "outputs": [
    {
     "data": {
      "text/plain": [
       "'C:\\\\ProgramData\\\\Anaconda3;C:\\\\ProgramData\\\\Anaconda3\\\\Library\\\\mingw-w64\\\\bin;C:\\\\ProgramData\\\\Anaconda3\\\\Library\\\\usr\\\\bin;C:\\\\ProgramData\\\\Anaconda3\\\\Library\\\\bin;C:\\\\ProgramData\\\\Anaconda3\\\\Scripts;C:\\\\Program Files (x86)\\\\Intel\\\\Intel(R) Management Engine Components\\\\iCLS\\\\;C:\\\\Program Files\\\\Intel\\\\Intel(R) Management Engine Components\\\\iCLS\\\\;C:\\\\Windows\\\\system32;C:\\\\Windows;C:\\\\Windows\\\\System32\\\\Wbem;C:\\\\Windows\\\\System32\\\\WindowsPowerShell\\\\v1.0\\\\;C:\\\\Windows\\\\System32\\\\OpenSSH\\\\;C:\\\\Program Files (x86)\\\\Intel\\\\Intel(R) Management Engine Components\\\\DAL;C:\\\\Program Files\\\\Intel\\\\Intel(R) Management Engine Components\\\\DAL;C:\\\\Program Files\\\\Intel\\\\WiFi\\\\bin\\\\;C:\\\\Program Files\\\\Common Files\\\\Intel\\\\WirelessCommon\\\\;C:\\\\Program Files (x86)\\\\NVIDIA Corporation\\\\PhysX\\\\Common;C:\\\\Program Files\\\\NVIDIA Corporation\\\\NVIDIA NvDLISR;C:\\\\Program Files\\\\Git\\\\cmd;C:\\\\WINDOWS\\\\system32;C:\\\\WINDOWS;C:\\\\WINDOWS\\\\System32\\\\Wbem;C:\\\\WINDOWS\\\\System32\\\\WindowsPowerShell\\\\v1.0\\\\;C:\\\\WINDOWS\\\\System32\\\\OpenSSH\\\\;C:\\\\Program Files\\\\Java\\\\jdk-16.0.1\\\\bin;;C:\\\\Program Files\\\\Microsoft VS Code\\\\bin;C:\\\\Users\\\\CPB06GameN\\\\AppData\\\\Local\\\\Microsoft\\\\WindowsApps;C:\\\\Program Files\\\\Intel\\\\WiFi\\\\bin\\\\;C:\\\\Program Files\\\\Common Files\\\\Intel\\\\WirelessCommon\\\\;C:\\\\Program Files\\\\Bandizip\\\\;'"
      ]
     },
     "execution_count": 72,
     "metadata": {},
     "output_type": "execute_result"
    }
   ],
   "source": [
    "import os\n",
    "os.environ[\"path\"]"
   ]
  },
  {
   "cell_type": "code",
   "execution_count": 74,
   "id": "b11ac9b8",
   "metadata": {},
   "outputs": [
    {
     "data": {
      "text/plain": [
       "'C:\\\\workspace\\\\Python'"
      ]
     },
     "execution_count": 74,
     "metadata": {},
     "output_type": "execute_result"
    }
   ],
   "source": [
    "os.getcwd() # 현재 디렉토리 위치 확인"
   ]
  },
  {
   "cell_type": "code",
   "execution_count": 75,
   "id": "0facecf0",
   "metadata": {},
   "outputs": [
    {
     "data": {
      "text/plain": [
       "['C:\\\\workspace\\\\Python\\\\mod1.py', 'C:\\\\workspace\\\\Python\\\\mod2.py']"
      ]
     },
     "execution_count": 75,
     "metadata": {},
     "output_type": "execute_result"
    }
   ],
   "source": [
    "import glob #해당 디렉토리 중 파일 모두 찾아주기\n",
    "glob.glob('C:\\\\workspace\\\\Python\\\\*.py')"
   ]
  },
  {
   "cell_type": "code",
   "execution_count": null,
   "id": "c2c6414f",
   "metadata": {},
   "outputs": [],
   "source": []
  }
 ],
 "metadata": {
  "kernelspec": {
   "display_name": "Python 3",
   "language": "python",
   "name": "python3"
  },
  "language_info": {
   "codemirror_mode": {
    "name": "ipython",
    "version": 3
   },
   "file_extension": ".py",
   "mimetype": "text/x-python",
   "name": "python",
   "nbconvert_exporter": "python",
   "pygments_lexer": "ipython3",
   "version": "3.8.8"
  }
 },
 "nbformat": 4,
 "nbformat_minor": 5
}
