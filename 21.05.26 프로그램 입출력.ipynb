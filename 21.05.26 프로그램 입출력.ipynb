{
 "cells": [
  {
   "cell_type": "code",
   "execution_count": 7,
   "id": "15f5a651",
   "metadata": {},
   "outputs": [],
   "source": [
    "with open(\"C:/workspace/Python/새파일2.txt\", \"a\") as f:\n",
    "    f.write(\"ㅋㅎㅋㅎ\")"
   ]
  },
  {
   "cell_type": "code",
   "execution_count": null,
   "id": "29d78f6c",
   "metadata": {},
   "outputs": [],
   "source": [
    "class FourCal:\n",
    "    #self.first\n",
    "    #self.second\n",
    "    def add(self):\n",
    "        result = self.first + self.second\n",
    "        return result\n",
    "    def mul(self):\n",
    "        result = self.first * self.second\n",
    "        return result"
   ]
  }
 ],
 "metadata": {
  "kernelspec": {
   "display_name": "Python 3",
   "language": "python",
   "name": "python3"
  },
  "language_info": {
   "codemirror_mode": {
    "name": "ipython",
    "version": 3
   },
   "file_extension": ".py",
   "mimetype": "text/x-python",
   "name": "python",
   "nbconvert_exporter": "python",
   "pygments_lexer": "ipython3",
   "version": "3.8.8"
  }
 },
 "nbformat": 4,
 "nbformat_minor": 5
}
