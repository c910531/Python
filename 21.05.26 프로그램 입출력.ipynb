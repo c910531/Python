{
 "cells": [
  {
   "cell_type": "code",
   "execution_count": 7,
   "id": "1d1e20f5",
   "metadata": {},
   "outputs": [],
   "source": [
    "with open(\"C:/workspace/Python/새파일2.txt\", \"a\") as f:\n",
    "    f.write(\"ㅋㅎㅋㅎ\")"
   ]
  },
  {
   "cell_type": "code",
   "execution_count": 11,
   "id": "4a854a4e",
   "metadata": {},
   "outputs": [
    {
     "name": "stdout",
     "output_type": "stream",
     "text": [
      "6\n",
      "10\n"
     ]
    }
   ],
   "source": [
    "## 객체지향 FourCal 클래스\n",
    "\n",
    "class FourCal:\n",
    "    #self.first\n",
    "    #self.second\n",
    "    def setdata(self, a, b):\n",
    "        self.first = a\n",
    "        self.second = b\n",
    "    def add(self):\n",
    "        result = self.first + self.second\n",
    "        return result\n",
    "    def mul(self):\n",
    "        result = self.first * self.second\n",
    "        return result\n",
    "aCal = FourCal()\n",
    "bCal = FourCal()\n",
    "aCal.setdata(4, 2)\n",
    "print(aCal.add())\n",
    "bCal.setdata(3,7)\n",
    "print(bCal.add())"
   ]
  },
  {
   "cell_type": "code",
   "execution_count": 12,
   "id": "98996739",
   "metadata": {},
   "outputs": [
    {
     "name": "stdout",
     "output_type": "stream",
     "text": [
      "6\n",
      "10\n"
     ]
    }
   ],
   "source": [
    "## 객체지향 FourCal 클래스\n",
    "\n",
    "class FourCal:\n",
    "    #self.first\n",
    "    #self.second\n",
    "    def __init__(self, a, b):\n",
    "        self.first = a\n",
    "        self.second = b\n",
    "    def add(self):\n",
    "        result = self.first + self.second\n",
    "        return result\n",
    "    def mul(self):\n",
    "        result = self.first * self.second\n",
    "        return result\n",
    "aCal = FourCal(4,2) # 미리 값을 설정할 경우 추후 setdata로 따로 지정 안해도 연산 가능\n",
    "bCal = FourCal(3,7)\n",
    "print(aCal.add())\n",
    "print(bCal.add())"
   ]
  },
  {
   "cell_type": "code",
   "execution_count": null,
   "id": "62d174b5",
   "metadata": {},
   "outputs": [],
   "source": []
  }
 ],
 "metadata": {
  "kernelspec": {
   "display_name": "Python 3",
   "language": "python",
   "name": "python3"
  },
  "language_info": {
   "codemirror_mode": {
    "name": "ipython",
    "version": 3
   },
   "file_extension": ".py",
   "mimetype": "text/x-python",
   "name": "python",
   "nbconvert_exporter": "python",
   "pygments_lexer": "ipython3",
   "version": "3.8.8"
  }
 },
 "nbformat": 4,
 "nbformat_minor": 5
}
