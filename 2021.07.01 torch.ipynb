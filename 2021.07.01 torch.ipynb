{
 "cells": [
  {
   "cell_type": "code",
   "execution_count": 3,
   "id": "7ce214d0",
   "metadata": {},
   "outputs": [
    {
     "name": "stdout",
     "output_type": "stream",
     "text": [
      "Collecting torch\n",
      "  Downloading torch-1.9.0-cp38-cp38-win_amd64.whl (222.0 MB)\n",
      "Collecting cuda\n",
      "  Downloading cuda-0.0.1.tar.gz (1.1 kB)\n",
      "Requirement already satisfied: typing-extensions in c:\\programdata\\anaconda3\\lib\\site-packages (from torch) (3.7.4.3)\n",
      "Building wheels for collected packages: cuda\n",
      "  Building wheel for cuda (setup.py): started\n",
      "  Building wheel for cuda (setup.py): finished with status 'done'\n",
      "  Created wheel for cuda: filename=cuda-0.0.1-py3-none-any.whl size=1171 sha256=d646b3a4ee64092ee8d02a1e0395c615566ed13d9004dd77cd86e27f8c614e3e\n",
      "  Stored in directory: c:\\users\\cpb06gamen\\appdata\\local\\pip\\cache\\wheels\\c4\\48\\c8\\c46a1691f10b5b5fd75a47b01c25c8ae7bc2005654b09ea1d6\n",
      "Successfully built cuda\n",
      "Installing collected packages: torch, cuda\n",
      "Successfully installed cuda-0.0.1 torch-1.9.0\n"
     ]
    }
   ],
   "source": [
    "!pip install torch cuda"
   ]
  },
  {
   "cell_type": "code",
   "execution_count": 4,
   "id": "d5576a8f",
   "metadata": {},
   "outputs": [],
   "source": [
    "import torch"
   ]
  },
  {
   "cell_type": "code",
   "execution_count": 5,
   "id": "1d3a6851",
   "metadata": {},
   "outputs": [
    {
     "data": {
      "text/plain": [
       "'1.9.0+cpu'"
      ]
     },
     "execution_count": 5,
     "metadata": {},
     "output_type": "execute_result"
    }
   ],
   "source": [
    "torch.__version__"
   ]
  },
  {
   "cell_type": "code",
   "execution_count": 6,
   "id": "fef0b410",
   "metadata": {},
   "outputs": [],
   "source": [
    "data = [[1, 2], [3, 4]]"
   ]
  },
  {
   "cell_type": "code",
   "execution_count": 8,
   "id": "18635340",
   "metadata": {},
   "outputs": [],
   "source": [
    "import numpy as np\n",
    "np_data = np.array(data)"
   ]
  },
  {
   "cell_type": "code",
   "execution_count": 9,
   "id": "c1b369e9",
   "metadata": {},
   "outputs": [
    {
     "data": {
      "text/plain": [
       "array([[1, 2],\n",
       "       [3, 4]])"
      ]
     },
     "execution_count": 9,
     "metadata": {},
     "output_type": "execute_result"
    }
   ],
   "source": [
    "np_data"
   ]
  },
  {
   "cell_type": "code",
   "execution_count": null,
   "id": "0bef7440",
   "metadata": {},
   "outputs": [],
   "source": []
  }
 ],
 "metadata": {
  "kernelspec": {
   "display_name": "Python 3",
   "language": "python",
   "name": "python3"
  },
  "language_info": {
   "codemirror_mode": {
    "name": "ipython",
    "version": 3
   },
   "file_extension": ".py",
   "mimetype": "text/x-python",
   "name": "python",
   "nbconvert_exporter": "python",
   "pygments_lexer": "ipython3",
   "version": "3.8.8"
  }
 },
 "nbformat": 4,
 "nbformat_minor": 5
}
