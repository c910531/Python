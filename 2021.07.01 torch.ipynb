{
 "cells": [
  {
   "cell_type": "code",
   "execution_count": 3,
   "id": "8d91a98c",
   "metadata": {},
   "outputs": [
    {
     "name": "stdout",
     "output_type": "stream",
     "text": [
      "Collecting torch\n",
      "  Downloading torch-1.9.0-cp38-cp38-win_amd64.whl (222.0 MB)\n",
      "Collecting cuda\n",
      "  Downloading cuda-0.0.1.tar.gz (1.1 kB)\n",
      "Requirement already satisfied: typing-extensions in c:\\programdata\\anaconda3\\lib\\site-packages (from torch) (3.7.4.3)\n",
      "Building wheels for collected packages: cuda\n",
      "  Building wheel for cuda (setup.py): started\n",
      "  Building wheel for cuda (setup.py): finished with status 'done'\n",
      "  Created wheel for cuda: filename=cuda-0.0.1-py3-none-any.whl size=1171 sha256=d646b3a4ee64092ee8d02a1e0395c615566ed13d9004dd77cd86e27f8c614e3e\n",
      "  Stored in directory: c:\\users\\cpb06gamen\\appdata\\local\\pip\\cache\\wheels\\c4\\48\\c8\\c46a1691f10b5b5fd75a47b01c25c8ae7bc2005654b09ea1d6\n",
      "Successfully built cuda\n",
      "Installing collected packages: torch, cuda\n",
      "Successfully installed cuda-0.0.1 torch-1.9.0\n"
     ]
    }
   ],
   "source": [
    "!pip install torch cuda"
   ]
  },
  {
   "cell_type": "code",
   "execution_count": 4,
   "id": "8ce6a350",
   "metadata": {},
   "outputs": [],
   "source": [
    "import torch"
   ]
  },
  {
   "cell_type": "code",
   "execution_count": 5,
   "id": "ac25c84c",
   "metadata": {},
   "outputs": [
    {
     "data": {
      "text/plain": [
       "'1.9.0+cpu'"
      ]
     },
     "execution_count": 5,
     "metadata": {},
     "output_type": "execute_result"
    }
   ],
   "source": [
    "torch.__version__"
   ]
  },
  {
   "cell_type": "code",
   "execution_count": 6,
   "id": "e9f6ed13",
   "metadata": {},
   "outputs": [],
   "source": [
    "data = [[1, 2], [3, 4]]"
   ]
  },
  {
   "cell_type": "code",
   "execution_count": 8,
   "id": "4d228d0e",
   "metadata": {},
   "outputs": [],
   "source": [
    "import numpy as np\n",
    "np_data = np.array(data)"
   ]
  },
  {
   "cell_type": "code",
   "execution_count": 9,
   "id": "2c50941c",
   "metadata": {},
   "outputs": [
    {
     "data": {
      "text/plain": [
       "array([[1, 2],\n",
       "       [3, 4]])"
      ]
     },
     "execution_count": 9,
     "metadata": {},
     "output_type": "execute_result"
    }
   ],
   "source": [
    "np_data"
   ]
  },
  {
   "cell_type": "code",
   "execution_count": 10,
   "id": "72a6a9a1",
   "metadata": {},
   "outputs": [],
   "source": [
    "x_data = torch.tensor(data)"
   ]
  },
  {
   "cell_type": "code",
   "execution_count": 11,
   "id": "b79a7af8",
   "metadata": {},
   "outputs": [
    {
     "data": {
      "text/plain": [
       "tensor([[1, 2],\n",
       "        [3, 4]])"
      ]
     },
     "execution_count": 11,
     "metadata": {},
     "output_type": "execute_result"
    }
   ],
   "source": [
    "x_data"
   ]
  },
  {
   "cell_type": "code",
   "execution_count": 12,
   "id": "901b4b0c",
   "metadata": {},
   "outputs": [],
   "source": [
    "x_data_f = torch.FloatTensor"
   ]
  },
  {
   "cell_type": "code",
   "execution_count": 13,
   "id": "1a5ec2f0",
   "metadata": {},
   "outputs": [
    {
     "ename": "TypeError",
     "evalue": "descriptor 'dim' of 'torch._C._TensorBase' object needs an argument",
     "output_type": "error",
     "traceback": [
      "\u001b[1;31m---------------------------------------------------------------------------\u001b[0m",
      "\u001b[1;31mTypeError\u001b[0m                                 Traceback (most recent call last)",
      "\u001b[1;32m<ipython-input-13-0431c3bcccbc>\u001b[0m in \u001b[0;36m<module>\u001b[1;34m\u001b[0m\n\u001b[1;32m----> 1\u001b[1;33m \u001b[0mprint\u001b[0m\u001b[1;33m(\u001b[0m\u001b[0mx_data_f\u001b[0m\u001b[1;33m.\u001b[0m\u001b[0mdim\u001b[0m\u001b[1;33m(\u001b[0m\u001b[1;33m)\u001b[0m\u001b[1;33m)\u001b[0m\u001b[1;33m\u001b[0m\u001b[1;33m\u001b[0m\u001b[0m\n\u001b[0m",
      "\u001b[1;31mTypeError\u001b[0m: descriptor 'dim' of 'torch._C._TensorBase' object needs an argument"
     ]
    }
   ],
   "source": [
    "print(x_data_f.dim())"
   ]
  },
  {
   "cell_type": "code",
   "execution_count": 14,
   "id": "a022c596",
   "metadata": {},
   "outputs": [
    {
     "name": "stdout",
     "output_type": "stream",
     "text": [
      "<attribute 'shape' of 'torch._C._TensorBase' objects>\n"
     ]
    }
   ],
   "source": [
    "print(x_data_f.shape)"
   ]
  },
  {
   "cell_type": "code",
   "execution_count": null,
   "id": "ea025444",
   "metadata": {},
   "outputs": [],
   "source": [
    "print(x_data_f.size())"
   ]
  },
  {
   "cell_type": "code",
   "execution_count": null,
   "id": "4fcff283",
   "metadata": {},
   "outputs": [],
   "source": [
    "x_data_f[0]"
   ]
  },
  {
   "cell_type": "code",
   "execution_count": null,
   "id": "0772dbfd",
   "metadata": {},
   "outputs": [],
   "source": [
    "x_data_f[0][1]"
   ]
  },
  {
   "cell_type": "code",
   "execution_count": null,
   "id": "d431de10",
   "metadata": {},
   "outputs": [],
   "source": [
    "x_data_f[0][:]"
   ]
  },
  {
   "cell_type": "code",
   "execution_count": null,
   "id": "684ab748",
   "metadata": {},
   "outputs": [],
   "source": [
    "t1 = torch.FloatTensor([[3,3]])\n",
    "t2 = torch.FloatTensor([[2,4]])\n",
    "print(t1 + t2)"
   ]
  },
  {
   "cell_type": "code",
   "execution_count": 15,
   "id": "0171c525",
   "metadata": {},
   "outputs": [
    {
     "data": {
      "text/plain": [
       "-2.451183975161103"
      ]
     },
     "execution_count": 15,
     "metadata": {},
     "output_type": "execute_result"
    }
   ],
   "source": [
    "228298593038/-93138089736"
   ]
  },
  {
   "cell_type": "code",
   "execution_count": 16,
   "id": "5161ac97",
   "metadata": {},
   "outputs": [
    {
     "data": {
      "text/plain": [
       "1.9932379593083145"
      ]
     },
     "execution_count": 16,
     "metadata": {},
     "output_type": "execute_result"
    }
   ],
   "source": [
    "110243431859/55308715823"
   ]
  },
  {
   "cell_type": "code",
   "execution_count": null,
   "id": "9c69a495",
   "metadata": {},
   "outputs": [],
   "source": []
  }
 ],
 "metadata": {
  "kernelspec": {
   "display_name": "Python 3",
   "language": "python",
   "name": "python3"
  },
  "language_info": {
   "codemirror_mode": {
    "name": "ipython",
    "version": 3
   },
   "file_extension": ".py",
   "mimetype": "text/x-python",
   "name": "python",
   "nbconvert_exporter": "python",
   "pygments_lexer": "ipython3",
   "version": "3.8.8"
  }
 },
 "nbformat": 4,
 "nbformat_minor": 5
}
