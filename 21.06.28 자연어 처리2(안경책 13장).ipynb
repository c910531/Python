{
 "cells": [
  {
   "cell_type": "code",
   "execution_count": null,
   "id": "68f27db3",
   "metadata": {},
   "outputs": [],
   "source": [
    "# 안경책 13장 1번"
   ]
  },
  {
   "cell_type": "code",
   "execution_count": 1,
   "id": "f33c2129",
   "metadata": {},
   "outputs": [],
   "source": [
    "import pandas as pd"
   ]
  },
  {
   "cell_type": "code",
   "execution_count": 2,
   "id": "12586329",
   "metadata": {},
   "outputs": [
    {
     "data": {
      "text/plain": [
       "'1.2.4'"
      ]
     },
     "execution_count": 2,
     "metadata": {},
     "output_type": "execute_result"
    }
   ],
   "source": [
    "pd.__version__"
   ]
  },
  {
   "cell_type": "code",
   "execution_count": 19,
   "id": "2de261ad",
   "metadata": {},
   "outputs": [
    {
     "data": {
      "text/html": [
       "<div>\n",
       "<style scoped>\n",
       "    .dataframe tbody tr th:only-of-type {\n",
       "        vertical-align: middle;\n",
       "    }\n",
       "\n",
       "    .dataframe tbody tr th {\n",
       "        vertical-align: top;\n",
       "    }\n",
       "\n",
       "    .dataframe thead th {\n",
       "        text-align: right;\n",
       "    }\n",
       "</style>\n",
       "<table border=\"1\" class=\"dataframe\">\n",
       "  <thead>\n",
       "    <tr style=\"text-align: right;\">\n",
       "      <th></th>\n",
       "      <th>id</th>\n",
       "      <th>document</th>\n",
       "      <th>label</th>\n",
       "    </tr>\n",
       "  </thead>\n",
       "  <tbody>\n",
       "    <tr>\n",
       "      <th>0</th>\n",
       "      <td>9976970</td>\n",
       "      <td>아 더빙.. 진짜 짜증나네요 목소리</td>\n",
       "      <td>0</td>\n",
       "    </tr>\n",
       "    <tr>\n",
       "      <th>1</th>\n",
       "      <td>3819312</td>\n",
       "      <td>흠...포스터보고 초딩영화줄....오버연기조차 가볍지 않구나</td>\n",
       "      <td>1</td>\n",
       "    </tr>\n",
       "    <tr>\n",
       "      <th>2</th>\n",
       "      <td>10265843</td>\n",
       "      <td>너무재밓었다그래서보는것을추천한다</td>\n",
       "      <td>0</td>\n",
       "    </tr>\n",
       "  </tbody>\n",
       "</table>\n",
       "</div>"
      ],
      "text/plain": [
       "         id                           document  label\n",
       "0   9976970                아 더빙.. 진짜 짜증나네요 목소리      0\n",
       "1   3819312  흠...포스터보고 초딩영화줄....오버연기조차 가볍지 않구나      1\n",
       "2  10265843                  너무재밓었다그래서보는것을추천한다      0"
      ]
     },
     "execution_count": 19,
     "metadata": {},
     "output_type": "execute_result"
    }
   ],
   "source": [
    "nsmc_train_df = pd.read_csv('./ch13_data/ratings_train.txt', encoding = 'utf-8', sep = '\\t')\n",
    "nsmc_train_df[:3]"
   ]
  },
  {
   "cell_type": "code",
   "execution_count": 20,
   "id": "7195dd61",
   "metadata": {},
   "outputs": [
    {
     "name": "stdout",
     "output_type": "stream",
     "text": [
      "<class 'pandas.core.frame.DataFrame'>\n",
      "RangeIndex: 150000 entries, 0 to 149999\n",
      "Data columns (total 3 columns):\n",
      " #   Column    Non-Null Count   Dtype \n",
      "---  ------    --------------   ----- \n",
      " 0   id        150000 non-null  int64 \n",
      " 1   document  149995 non-null  object\n",
      " 2   label     150000 non-null  int64 \n",
      "dtypes: int64(2), object(1)\n",
      "memory usage: 3.4+ MB\n"
     ]
    }
   ],
   "source": [
    "nsmc_train_df.info()     # 5개의 결측치 존재.(document column 에.)"
   ]
  },
  {
   "cell_type": "code",
   "execution_count": 21,
   "id": "e1541cd6",
   "metadata": {},
   "outputs": [],
   "source": [
    "nsmc_train_df = nsmc_train_df[nsmc_train_df['document'].notnull()]  # null data 삭제."
   ]
  },
  {
   "cell_type": "code",
   "execution_count": 22,
   "id": "8fd75255",
   "metadata": {},
   "outputs": [
    {
     "name": "stdout",
     "output_type": "stream",
     "text": [
      "<class 'pandas.core.frame.DataFrame'>\n",
      "Int64Index: 149995 entries, 0 to 149999\n",
      "Data columns (total 3 columns):\n",
      " #   Column    Non-Null Count   Dtype \n",
      "---  ------    --------------   ----- \n",
      " 0   id        149995 non-null  int64 \n",
      " 1   document  149995 non-null  object\n",
      " 2   label     149995 non-null  int64 \n",
      "dtypes: int64(2), object(1)\n",
      "memory usage: 4.6+ MB\n"
     ]
    }
   ],
   "source": [
    "nsmc_train_df.info()    # 결측치 제거!"
   ]
  },
  {
   "cell_type": "code",
   "execution_count": 23,
   "id": "b8a990c2",
   "metadata": {},
   "outputs": [
    {
     "data": {
      "text/plain": [
       "0    75170\n",
       "1    74825\n",
       "Name: label, dtype: int64"
      ]
     },
     "execution_count": 23,
     "metadata": {},
     "output_type": "execute_result"
    }
   ],
   "source": [
    "nsmc_train_df['label'].value_counts()"
   ]
  },
  {
   "cell_type": "code",
   "execution_count": 24,
   "id": "233a98ed",
   "metadata": {},
   "outputs": [
    {
     "data": {
      "text/plain": [
       "100              신카이 마코토의 작화와,미유와 하나카나가 연기를 잘해줘서 더대박이였다.\n",
       "101                                 재미없음 진심 1이훨나 캐스팅두못한듯\n",
       "102                            잔잔한게 생각보다 볼만한 영화인거 같습니다 ㅋ\n",
       "103                                 감독님들 고은님 쓰면 영화안봅니다 .\n",
       "104                                   무섭지도 않았고 스토리도 ..ㅡㅡ\n",
       "                             ...                        \n",
       "195                나름 추억에 젖어들고 좋았음ㅋㅋ아무생각없이 가볍게 보고오기 추천요~\n",
       "196                                        단순한 싸이코물을 벗어난\n",
       "197    이게 14년도에 만들어진건가요? 아니면 예전에 만든거 다시개봉한건가요?ㅠ너무 허접해요 ㅠ\n",
       "198            넘 사랑스러운 영화다 ㅠㅠ 1보고 2 연이어 봤다~!! 넘 귀여워 ㅠㅠ♥♥\n",
       "199    청춘 영화만이 줄 수 있는 감성이 넘쳐난다. 이 순간 지나가면 다시 돌아오지 않을테...\n",
       "Name: document, Length: 100, dtype: object"
      ]
     },
     "execution_count": 24,
     "metadata": {},
     "output_type": "execute_result"
    }
   ],
   "source": [
    "nsmc_train_df['document'][100:200]"
   ]
  },
  {
   "cell_type": "code",
   "execution_count": 25,
   "id": "d77777f1",
   "metadata": {},
   "outputs": [],
   "source": [
    "import re"
   ]
  },
  {
   "cell_type": "code",
   "execution_count": 28,
   "id": "0f3c9c3c",
   "metadata": {},
   "outputs": [],
   "source": [
    "nsmc_train_df['document'] = nsmc_train_df['document'].apply(lambda x:re.sub(r'[^ ㄱ-ㅣ가-힣]' , \" \", x))"
   ]
  },
  {
   "cell_type": "code",
   "execution_count": 29,
   "id": "c871bd5a",
   "metadata": {},
   "outputs": [
    {
     "data": {
      "text/plain": [
       "100              신카이 마코토의 작화와 미유와 하나카나가 연기를 잘해줘서 더대박이였다 \n",
       "101                                 재미없음 진심  이훨나 캐스팅두못한듯\n",
       "102                            잔잔한게 생각보다 볼만한 영화인거 같습니다 ㅋ\n",
       "103                                 감독님들 고은님 쓰면 영화안봅니다  \n",
       "104                                   무섭지도 않았고 스토리도   ㅡㅡ\n",
       "                             ...                        \n",
       "195                나름 추억에 젖어들고 좋았음ㅋㅋ아무생각없이 가볍게 보고오기 추천요 \n",
       "196                                        단순한 싸이코물을 벗어난\n",
       "197    이게   년도에 만들어진건가요  아니면 예전에 만든거 다시개봉한건가요 ㅠ너무 허접해요 ㅠ\n",
       "198            넘 사랑스러운 영화다 ㅠㅠ  보고   연이어 봤다    넘 귀여워 ㅠㅠ  \n",
       "199    청춘 영화만이 줄 수 있는 감성이 넘쳐난다  이 순간 지나가면 다시 돌아오지 않을테...\n",
       "Name: document, Length: 100, dtype: object"
      ]
     },
     "execution_count": 29,
     "metadata": {},
     "output_type": "execute_result"
    }
   ],
   "source": [
    "nsmc_train_df['document'][100:200]"
   ]
  },
  {
   "cell_type": "code",
   "execution_count": null,
   "id": "7bcc60ba",
   "metadata": {},
   "outputs": [],
   "source": []
  }
 ],
 "metadata": {
  "kernelspec": {
   "display_name": "Python 3",
   "language": "python",
   "name": "python3"
  },
  "language_info": {
   "codemirror_mode": {
    "name": "ipython",
    "version": 3
   },
   "file_extension": ".py",
   "mimetype": "text/x-python",
   "name": "python",
   "nbconvert_exporter": "python",
   "pygments_lexer": "ipython3",
   "version": "3.8.8"
  }
 },
 "nbformat": 4,
 "nbformat_minor": 5
}
