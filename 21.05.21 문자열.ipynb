{
 "cells": [
  {
   "cell_type": "code",
   "execution_count": 6,
   "id": "2cd623b6",
   "metadata": {},
   "outputs": [],
   "source": [
    "a = \"Life is ~~~~\""
   ]
  },
  {
   "cell_type": "code",
   "execution_count": 7,
   "id": "9e2f2511",
   "metadata": {},
   "outputs": [],
   "source": [
    "a1 = a[0:4]"
   ]
  },
  {
   "cell_type": "code",
   "execution_count": 8,
   "id": "248768c2",
   "metadata": {},
   "outputs": [],
   "source": [
    "a2 = a[0:5]"
   ]
  },
  {
   "cell_type": "code",
   "execution_count": 9,
   "id": "f66a4487",
   "metadata": {},
   "outputs": [
    {
     "name": "stdout",
     "output_type": "stream",
     "text": [
      "다르다\n"
     ]
    }
   ],
   "source": [
    "if a1==a2:\n",
    "    print(\"같다\")\n",
    "else:\n",
    "    print(\"다르다\")"
   ]
  },
  {
   "cell_type": "code",
   "execution_count": 11,
   "id": "8c011436",
   "metadata": {},
   "outputs": [
    {
     "name": "stdout",
     "output_type": "stream",
     "text": [
      "Life 4\n",
      "Life  5\n"
     ]
    }
   ],
   "source": [
    "print(a1, len(a1))\n",
    "print(a2, len(a2))"
   ]
  },
  {
   "cell_type": "code",
   "execution_count": 12,
   "id": "bf4afd92",
   "metadata": {},
   "outputs": [
    {
     "data": {
      "text/plain": [
       "'Life'"
      ]
     },
     "execution_count": 12,
     "metadata": {},
     "output_type": "execute_result"
    }
   ],
   "source": [
    "a2.rstrip()"
   ]
  },
  {
   "cell_type": "code",
   "execution_count": 36,
   "id": "15fa48f0",
   "metadata": {},
   "outputs": [],
   "source": [
    "words1 = '딸기, 바나나, 수박'"
   ]
  },
  {
   "cell_type": "code",
   "execution_count": 37,
   "id": "3db5b6db",
   "metadata": {},
   "outputs": [
    {
     "name": "stdout",
     "output_type": "stream",
     "text": [
      "바나나\n"
     ]
    }
   ],
   "source": [
    "bananaFromWords1 = words1[4:7]\n",
    "print(bananaFromWords1)"
   ]
  },
  {
   "cell_type": "code",
   "execution_count": 43,
   "id": "2d67c0ba",
   "metadata": {
    "scrolled": true
   },
   "outputs": [
    {
     "name": "stdout",
     "output_type": "stream",
     "text": [
      "3\n",
      "바나나\n"
     ]
    }
   ],
   "source": [
    "wordToFind = \"바나나\"\n",
    "len(\"바나나\")\n",
    "print(len(\"바나나\"))\n",
    "indexOfBanana = words1.find(wordToFind)\n",
    "bananaFromWords1 = words1[indexOfBanana:indexOfBanana+len(\"바나나\")]\n",
    "print(bananaFromWords1)"
   ]
  },
  {
   "cell_type": "code",
   "execution_count": 19,
   "id": "6ed71873",
   "metadata": {},
   "outputs": [
    {
     "name": "stdout",
     "output_type": "stream",
     "text": [
      "수박\n"
     ]
    }
   ],
   "source": [
    "# wmFromWords1 = words1[9:11]\n",
    "wmFromWords1 = words1[9:]\n",
    "print(wmFromWords1)"
   ]
  },
  {
   "cell_type": "code",
   "execution_count": 20,
   "id": "ab1c0574",
   "metadata": {},
   "outputs": [
    {
     "name": "stdout",
     "output_type": "stream",
     "text": [
      "딸기\n"
     ]
    }
   ],
   "source": [
    "sbFromWords1 = words1[:2]\n",
    "print(sbFromWords1)"
   ]
  },
  {
   "cell_type": "code",
   "execution_count": 47,
   "id": "99c6235c",
   "metadata": {},
   "outputs": [],
   "source": [
    "a=\"Pithon\""
   ]
  },
  {
   "cell_type": "code",
   "execution_count": 48,
   "id": "6eb3667d",
   "metadata": {},
   "outputs": [
    {
     "data": {
      "text/plain": [
       "'i'"
      ]
     },
     "execution_count": 48,
     "metadata": {},
     "output_type": "execute_result"
    }
   ],
   "source": [
    "a[1]"
   ]
  },
  {
   "cell_type": "code",
   "execution_count": 49,
   "id": "b58d1c7f",
   "metadata": {},
   "outputs": [
    {
     "ename": "TypeError",
     "evalue": "'str' object does not support item assignment",
     "output_type": "error",
     "traceback": [
      "\u001b[1;31m---------------------------------------------------------------------------\u001b[0m",
      "\u001b[1;31mTypeError\u001b[0m                                 Traceback (most recent call last)",
      "\u001b[1;32m<ipython-input-49-d5923cc78d10>\u001b[0m in \u001b[0;36m<module>\u001b[1;34m\u001b[0m\n\u001b[1;32m----> 1\u001b[1;33m \u001b[0ma\u001b[0m\u001b[1;33m[\u001b[0m\u001b[1;36m1\u001b[0m\u001b[1;33m]\u001b[0m \u001b[1;33m=\u001b[0m \u001b[1;34m'y'\u001b[0m\u001b[1;33m\u001b[0m\u001b[1;33m\u001b[0m\u001b[0m\n\u001b[0m",
      "\u001b[1;31mTypeError\u001b[0m: 'str' object does not support item assignment"
     ]
    }
   ],
   "source": [
    "a[1] = 'y'"
   ]
  },
  {
   "cell_type": "code",
   "execution_count": 50,
   "id": "47e5114d",
   "metadata": {},
   "outputs": [
    {
     "data": {
      "text/plain": [
       "'P'"
      ]
     },
     "execution_count": 50,
     "metadata": {},
     "output_type": "execute_result"
    }
   ],
   "source": [
    "a[:1]"
   ]
  },
  {
   "cell_type": "code",
   "execution_count": 51,
   "id": "ead50d87",
   "metadata": {},
   "outputs": [
    {
     "data": {
      "text/plain": [
       "'thon'"
      ]
     },
     "execution_count": 51,
     "metadata": {},
     "output_type": "execute_result"
    }
   ],
   "source": [
    "a[2:]"
   ]
  },
  {
   "cell_type": "code",
   "execution_count": 54,
   "id": "247797ce",
   "metadata": {},
   "outputs": [
    {
     "name": "stdout",
     "output_type": "stream",
     "text": [
      "Python\n"
     ]
    }
   ],
   "source": [
    "a2 = a[:1] + 'y' + a[2:]\n",
    "print(a2)"
   ]
  },
  {
   "cell_type": "code",
   "execution_count": 56,
   "id": "2f27b887",
   "metadata": {},
   "outputs": [
    {
     "name": "stdout",
     "output_type": "stream",
     "text": [
      "Python\n"
     ]
    }
   ],
   "source": [
    "a = a2\n",
    "print(a)"
   ]
  },
  {
   "cell_type": "code",
   "execution_count": 73,
   "id": "9c9bd7ef",
   "metadata": {},
   "outputs": [
    {
     "name": "stdout",
     "output_type": "stream",
     "text": [
      "name\tmajor\thowmanyphone\n",
      "정제원\tIT\t         5\n",
      "김한남\tBT\t         3\n"
     ]
    }
   ],
   "source": [
    "name1 = \"정제원\"; major1 = \"IT\"; howmanyphone1 = 5\n",
    "name2 = \"김한남\"; major2 = \"BT\"; howmanyphone2 = 3\n",
    "print(\"name\"+\"\\t\"+\"major\"+\"\\t\"+\"howmanyphone\")\n",
    "print(name1+\"\\t\"+major1+\"\\t\"+\"\"+\"%10s\"%str(howmanyphone1))\n",
    "print(name2+\"\\t\"+major2+\"\\t\"+\"\"+\"%10s\"%str(howmanyphone2))"
   ]
  },
  {
   "cell_type": "code",
   "execution_count": 75,
   "id": "c505886c",
   "metadata": {},
   "outputs": [
    {
     "name": "stdout",
     "output_type": "stream",
     "text": [
      "%s120\n",
      "120\n",
      "       120\n"
     ]
    }
   ],
   "source": [
    "print(\"%s\" \"120\")\n",
    "print(\"%s\" % \"120\")\n",
    "print(\"%10s\" % \"120\")"
   ]
  },
  {
   "cell_type": "code",
   "execution_count": 76,
   "id": "4283e53e",
   "metadata": {},
   "outputs": [
    {
     "name": "stdout",
     "output_type": "stream",
     "text": [
      "120\n",
      "12000     \n"
     ]
    }
   ],
   "source": [
    "print(\"%-s\" % \"120\")\n",
    "print(\"%-10s\" % \"12000\") #10칸을 만들때 왼쪽부터 채우기"
   ]
  },
  {
   "cell_type": "code",
   "execution_count": 79,
   "id": "7d999f9e",
   "metadata": {},
   "outputs": [
    {
     "name": "stdout",
     "output_type": "stream",
     "text": [
      "120.00\n",
      "12000.00\n"
     ]
    }
   ],
   "source": [
    "print(\"%0.2f\" % 120)\n",
    "print(\"%0.2f\" % 12000)"
   ]
  },
  {
   "cell_type": "code",
   "execution_count": 80,
   "id": "4f405337",
   "metadata": {},
   "outputs": [
    {
     "name": "stdout",
     "output_type": "stream",
     "text": [
      "    120.00\n",
      "  12000.00\n"
     ]
    }
   ],
   "source": [
    "print(\"%10.2f\" % 120) # 총 10자리(10) + 소수점 2자리(.2)까지 표현\n",
    "print(\"%10.2f\" % 12000)"
   ]
  },
  {
   "cell_type": "code",
   "execution_count": 82,
   "id": "43e38625",
   "metadata": {},
   "outputs": [
    {
     "data": {
      "text/plain": [
       "'물론 나는 물을 마시고 싶다'"
      ]
     },
     "execution_count": 82,
     "metadata": {},
     "output_type": "execute_result"
    }
   ],
   "source": [
    "\"{0}론 나는 {0}을 {1} 싶다\".format(\"물\",\"마시고\")"
   ]
  },
  {
   "cell_type": "code",
   "execution_count": 83,
   "id": "dcb05718",
   "metadata": {},
   "outputs": [
    {
     "data": {
      "text/plain": [
       "'120       '"
      ]
     },
     "execution_count": 83,
     "metadata": {},
     "output_type": "execute_result"
    }
   ],
   "source": [
    "\"{0:<10}\".format(\"120\")"
   ]
  },
  {
   "cell_type": "code",
   "execution_count": 84,
   "id": "f9e20f25",
   "metadata": {},
   "outputs": [
    {
     "data": {
      "text/plain": [
       "'       120'"
      ]
     },
     "execution_count": 84,
     "metadata": {},
     "output_type": "execute_result"
    }
   ],
   "source": [
    "\"{0:>10}\".format(\"120\")"
   ]
  },
  {
   "cell_type": "code",
   "execution_count": 85,
   "id": "35d3d739",
   "metadata": {},
   "outputs": [
    {
     "data": {
      "text/plain": [
       "'   120    '"
      ]
     },
     "execution_count": 85,
     "metadata": {},
     "output_type": "execute_result"
    }
   ],
   "source": [
    "\"{0:^10}\".format(\"120\") # 가운데 정렬"
   ]
  },
  {
   "cell_type": "code",
   "execution_count": 86,
   "id": "29b11e19",
   "metadata": {},
   "outputs": [
    {
     "data": {
      "text/plain": [
       "'===120===='"
      ]
     },
     "execution_count": 86,
     "metadata": {},
     "output_type": "execute_result"
    }
   ],
   "source": [
    "\"{0:=^10}\".format(\"120\") #빈칸채우기"
   ]
  },
  {
   "cell_type": "code",
   "execution_count": 102,
   "id": "3b021168",
   "metadata": {},
   "outputs": [
    {
     "data": {
      "text/plain": [
       "'나의 이름은 111입니다. 나이는 120까지 살고 싶어요'"
      ]
     },
     "execution_count": 102,
     "metadata": {},
     "output_type": "execute_result"
    }
   ],
   "source": [
    "name=\"111\"\n",
    "age=120\n",
    "\"나의 이름은 {0}입니다. 나이는 {1}까지 살고 싶어요\".format(name,age)"
   ]
  },
  {
   "cell_type": "code",
   "execution_count": 103,
   "id": "4b887a41",
   "metadata": {},
   "outputs": [
    {
     "data": {
      "text/plain": [
       "'나의 이름은 111입니다. 나이는 120까지 살고 싶어요'"
      ]
     },
     "execution_count": 103,
     "metadata": {},
     "output_type": "execute_result"
    }
   ],
   "source": [
    "f\"나의 이름은 {name}입니다. 나이는 {age}까지 살고 싶어요\""
   ]
  },
  {
   "cell_type": "code",
   "execution_count": 104,
   "id": "3217fa8b",
   "metadata": {},
   "outputs": [
    {
     "data": {
      "text/plain": [
       "3"
      ]
     },
     "execution_count": 104,
     "metadata": {},
     "output_type": "execute_result"
    }
   ],
   "source": [
    "len(\"바나나\")"
   ]
  },
  {
   "cell_type": "code",
   "execution_count": 107,
   "id": "9d17271b",
   "metadata": {},
   "outputs": [
    {
     "data": {
      "text/plain": [
       "3"
      ]
     },
     "execution_count": 107,
     "metadata": {},
     "output_type": "execute_result"
    }
   ],
   "source": [
    "\"내가 가장 좋아하는 바나나 크기가 큰 바나나 입니다. 왜냐면 작은 바나나는\\\n",
    "같은 무게를 사도 껍질로 다 버려져요\".count(\"바나나\")"
   ]
  },
  {
   "cell_type": "code",
   "execution_count": 109,
   "id": "5fab3c6b",
   "metadata": {},
   "outputs": [
    {
     "data": {
      "text/plain": [
       "'a,b,c,d'"
      ]
     },
     "execution_count": 109,
     "metadata": {},
     "output_type": "execute_result"
    }
   ],
   "source": [
    "\",\".join(\"abcd\")"
   ]
  },
  {
   "cell_type": "code",
   "execution_count": 110,
   "id": "71e6fb01",
   "metadata": {},
   "outputs": [
    {
     "data": {
      "text/plain": [
       "'abc,def,ghi'"
      ]
     },
     "execution_count": 110,
     "metadata": {},
     "output_type": "execute_result"
    }
   ],
   "source": [
    "\",\".join([\"abc\",\"def\",\"ghi\"]) # 몇 단어를 묶어서 리스트화"
   ]
  },
  {
   "cell_type": "code",
   "execution_count": 113,
   "id": "8a34e8af",
   "metadata": {},
   "outputs": [
    {
     "data": {
      "text/plain": [
       "'010-2170-5678'"
      ]
     },
     "execution_count": 113,
     "metadata": {},
     "output_type": "execute_result"
    }
   ],
   "source": [
    "# 숫자만으로 저장된 전화번호를 DB에서 얻었다. 010-1234-5678 이번호를 입력하자\n",
    "# 010 - 1234 -5678  01012345678\n",
    "\"-\".join([\"010\", \"2170\", \"5678\"])"
   ]
  },
  {
   "cell_type": "code",
   "execution_count": 120,
   "id": "72644af0",
   "metadata": {},
   "outputs": [
    {
     "name": "stdout",
     "output_type": "stream",
     "text": [
      "I love peach. because peach is so sweet.\n"
     ]
    }
   ],
   "source": [
    "a = \"I love apple. because apple is so sweet.\"\n",
    "b = a.replace(\"apple\", \"peach\")\n",
    "print(b)"
   ]
  },
  {
   "cell_type": "code",
   "execution_count": 121,
   "id": "d985685e",
   "metadata": {},
   "outputs": [
    {
     "name": "stdout",
     "output_type": "stream",
     "text": [
      "01012345678\n"
     ]
    }
   ],
   "source": [
    "# 010 - 1234 -5678 --> '01012345678'\n",
    "a = \"010-1234-5678\"\n",
    "b = a.replace(\"-\",\"\")\n",
    "print(b)"
   ]
  },
  {
   "cell_type": "code",
   "execution_count": 124,
   "id": "d6731b07",
   "metadata": {},
   "outputs": [
    {
     "data": {
      "text/plain": [
       "['life', 'is', 'too', 'short']"
      ]
     },
     "execution_count": 124,
     "metadata": {},
     "output_type": "execute_result"
    }
   ],
   "source": [
    "a = \"life is too short\"\n",
    "a.split()"
   ]
  },
  {
   "cell_type": "code",
   "execution_count": 125,
   "id": "4dfc032b",
   "metadata": {},
   "outputs": [
    {
     "data": {
      "text/plain": [
       "['a', 'b', 'c', 'd']"
      ]
     },
     "execution_count": 125,
     "metadata": {},
     "output_type": "execute_result"
    }
   ],
   "source": [
    "b=\"a:b:c:d\"\n",
    "b.split(':')"
   ]
  },
  {
   "cell_type": "code",
   "execution_count": 128,
   "id": "361d5fcb",
   "metadata": {},
   "outputs": [
    {
     "name": "stdout",
     "output_type": "stream",
     "text": [
      "식별번호: 010 , 국번 1234 , 개인번호 5678\n"
     ]
    }
   ],
   "source": [
    "# 010 - 1234 -5678 --> '010''1234''5678'\n",
    "a = \"010-1234-5678\"\n",
    "b = a.split(\"-\")\n",
    "print(\"식별번호:\",b[0], \", 국번\",b[1], \", 개인번호\",b[2])"
   ]
  },
  {
   "cell_type": "code",
   "execution_count": 131,
   "id": "0021e279",
   "metadata": {},
   "outputs": [
    {
     "name": "stdout",
     "output_type": "stream",
     "text": [
      "[]\n",
      "[1, 2, [3, 4]]\n",
      "3\n",
      "1\n",
      "[3, 4]\n",
      "4\n"
     ]
    }
   ],
   "source": [
    "a = []\n",
    "print(a)\n",
    "e = [ 1, 2, [3, 4]]\n",
    "print(e)\n",
    "print(len(e))\n",
    "print(e[0])\n",
    "print(e[2])\n",
    "print(e[2][1])"
   ]
  },
  {
   "cell_type": "code",
   "execution_count": 133,
   "id": "cc418096",
   "metadata": {},
   "outputs": [
    {
     "name": "stdout",
     "output_type": "stream",
     "text": [
      "c\n",
      "[1, 2, 4]\n"
     ]
    }
   ],
   "source": [
    "str1 = \"abc\"\n",
    "print(str1[2])\n",
    "#str1[2]=\"d\" \"d\"추가가 안됨\n",
    "\n",
    "a = [1,2,3] # 숫자는 가능\n",
    "a[2] = 4\n",
    "print(a)"
   ]
  },
  {
   "cell_type": "code",
   "execution_count": 143,
   "id": "771e3288",
   "metadata": {},
   "outputs": [
    {
     "name": "stdout",
     "output_type": "stream",
     "text": [
      "['가', '나', '다', '라']\n"
     ]
    }
   ],
   "source": [
    "a = ['가', '다', '라', '나']\n",
    "a.sort()\n",
    "print(a)"
   ]
  },
  {
   "cell_type": "code",
   "execution_count": 147,
   "id": "aa61708a",
   "metadata": {},
   "outputs": [
    {
     "name": "stdout",
     "output_type": "stream",
     "text": [
      "['가', '나', '다', '라']\n"
     ]
    }
   ],
   "source": [
    "a = ['가', '다', '라', '나']\n",
    "a2 = a[:]\n",
    "a2.sort()\n",
    "print(a2)"
   ]
  },
  {
   "cell_type": "code",
   "execution_count": null,
   "id": "575f5c44",
   "metadata": {},
   "outputs": [],
   "source": [
    "print(a)"
   ]
  },
  {
   "cell_type": "code",
   "execution_count": 150,
   "id": "fca6c22c",
   "metadata": {},
   "outputs": [
    {
     "name": "stdout",
     "output_type": "stream",
     "text": [
      "['가', '나', '다', '라']\n",
      "['가', '다', '라', '나']\n"
     ]
    }
   ],
   "source": [
    "a = ['가', '다', '라', '나']\n",
    "a2 = sorted(a) # sorted를 사용하면 원본 데이터 보존\n",
    "print(a2)\n",
    "print(a)"
   ]
  },
  {
   "cell_type": "code",
   "execution_count": 151,
   "id": "bce96409",
   "metadata": {},
   "outputs": [
    {
     "name": "stdout",
     "output_type": "stream",
     "text": [
      "['라', '다', '나', '가']\n"
     ]
    }
   ],
   "source": [
    "a = ['가', '다', '라', '나']\n",
    "a.sort(reverse = True)\n",
    "print(a)"
   ]
  },
  {
   "cell_type": "code",
   "execution_count": 152,
   "id": "8baec328",
   "metadata": {},
   "outputs": [
    {
     "name": "stdout",
     "output_type": "stream",
     "text": [
      "['라', '다', '나', '가']\n",
      "['가', '다', '라', '나']\n"
     ]
    }
   ],
   "source": [
    "a = ['가', '다', '라', '나']\n",
    "a2 = sorted(a, reverse = True) \n",
    "print(a2)\n",
    "print(a)"
   ]
  },
  {
   "cell_type": "code",
   "execution_count": 157,
   "id": "ff453f68",
   "metadata": {},
   "outputs": [
    {
     "name": "stdout",
     "output_type": "stream",
     "text": [
      "[1, 3]\n"
     ]
    }
   ],
   "source": [
    "a = [1,2,3]\n",
    "a.pop(1)\n",
    "print(a)"
   ]
  },
  {
   "cell_type": "code",
   "execution_count": 159,
   "id": "0440a328",
   "metadata": {},
   "outputs": [
    {
     "name": "stdout",
     "output_type": "stream",
     "text": [
      "[1, 2, 3, 4]\n",
      "[1, 2, 3, 4]\n"
     ]
    }
   ],
   "source": [
    "a1 = [1, 2]\n",
    "a2 = [3, 4]\n",
    "new1 = a1+a2\n",
    "print(new1)\n",
    "a1.extend(a2) ; print(a1)"
   ]
  },
  {
   "cell_type": "code",
   "execution_count": 160,
   "id": "07d02f3c",
   "metadata": {},
   "outputs": [],
   "source": [
    "my_dic1 = {} # 딕셔너리는 {}로 표현"
   ]
  },
  {
   "cell_type": "code",
   "execution_count": 161,
   "id": "5187a972",
   "metadata": {},
   "outputs": [],
   "source": [
    "my_dic1[\"banana\"]=\"노랗고 달콤한 과일\""
   ]
  },
  {
   "cell_type": "code",
   "execution_count": 162,
   "id": "19742748",
   "metadata": {},
   "outputs": [],
   "source": [
    "my_dic1[\"strawberry\"]=\"새콤 달콤 빨간 과일\""
   ]
  },
  {
   "cell_type": "code",
   "execution_count": 163,
   "id": "78d5af62",
   "metadata": {},
   "outputs": [
    {
     "data": {
      "text/plain": [
       "{'banana': '노랗고 달콤한 과일', 'strawberry': '새콤 달콤 빨간 과일'}"
      ]
     },
     "execution_count": 163,
     "metadata": {},
     "output_type": "execute_result"
    }
   ],
   "source": [
    "my_dic1"
   ]
  },
  {
   "cell_type": "code",
   "execution_count": 170,
   "id": "dff50bbd",
   "metadata": {},
   "outputs": [],
   "source": [
    "# del my_dic1[0]\n",
    "del my_dic1[\"banana\"]"
   ]
  },
  {
   "cell_type": "code",
   "execution_count": 172,
   "id": "a9b3a615",
   "metadata": {},
   "outputs": [
    {
     "data": {
      "text/plain": [
       "dict_keys(['strawberry'])"
      ]
     },
     "execution_count": 172,
     "metadata": {},
     "output_type": "execute_result"
    }
   ],
   "source": [
    "my_dic1.keys()"
   ]
  },
  {
   "cell_type": "code",
   "execution_count": 180,
   "id": "ada761f1",
   "metadata": {},
   "outputs": [
    {
     "name": "stdout",
     "output_type": "stream",
     "text": [
      "['strawberry', 'banana']\n"
     ]
    }
   ],
   "source": [
    "a = ['strawberry', 'banana']\n",
    "print(a)"
   ]
  },
  {
   "cell_type": "code",
   "execution_count": 182,
   "id": "9d454440",
   "metadata": {},
   "outputs": [
    {
     "data": {
      "text/plain": [
       "{'strawberry': '새콤 달콤 빨간 과일', 'banana': '노랗고 달콤한 과일2'}"
      ]
     },
     "execution_count": 182,
     "metadata": {},
     "output_type": "execute_result"
    }
   ],
   "source": [
    "my_dic1[\"banana\"]=\"노랗고 달콤한 과일2\"\n",
    "my_dic1"
   ]
  },
  {
   "cell_type": "code",
   "execution_count": 183,
   "id": "4cec6a16",
   "metadata": {},
   "outputs": [
    {
     "name": "stdout",
     "output_type": "stream",
     "text": [
      "참\n",
      "참\n"
     ]
    }
   ],
   "source": [
    "if 3>1:\n",
    "    print(\"참\")\n",
    "if 4<10:\n",
    "    print(\"참\")"
   ]
  },
  {
   "cell_type": "code",
   "execution_count": 184,
   "id": "24b928e6",
   "metadata": {},
   "outputs": [
    {
     "name": "stdout",
     "output_type": "stream",
     "text": [
      "거짓\n"
     ]
    }
   ],
   "source": [
    "if 3<1:\n",
    "    print(\"참\")\n",
    "else:\n",
    "    print(\"거짓\")"
   ]
  },
  {
   "cell_type": "code",
   "execution_count": 185,
   "id": "cd398d8c",
   "metadata": {},
   "outputs": [
    {
     "data": {
      "text/plain": [
       "True"
      ]
     },
     "execution_count": 185,
     "metadata": {},
     "output_type": "execute_result"
    }
   ],
   "source": [
    "1 in [1, 2, 3]"
   ]
  },
  {
   "cell_type": "code",
   "execution_count": 186,
   "id": "ee359dd7",
   "metadata": {},
   "outputs": [
    {
     "data": {
      "text/plain": [
       "False"
      ]
     },
     "execution_count": 186,
     "metadata": {},
     "output_type": "execute_result"
    }
   ],
   "source": [
    "1 not in [1, 2, 3]"
   ]
  },
  {
   "cell_type": "code",
   "execution_count": null,
   "id": "c11f7131",
   "metadata": {},
   "outputs": [],
   "source": []
  }
 ],
 "metadata": {
  "kernelspec": {
   "display_name": "Python 3",
   "language": "python",
   "name": "python3"
  },
  "language_info": {
   "codemirror_mode": {
    "name": "ipython",
    "version": 3
   },
   "file_extension": ".py",
   "mimetype": "text/x-python",
   "name": "python",
   "nbconvert_exporter": "python",
   "pygments_lexer": "ipython3",
   "version": "3.8.8"
  }
 },
 "nbformat": 4,
 "nbformat_minor": 5
}
