{
 "cells": [
  {
   "cell_type": "code",
   "execution_count": 1,
   "id": "78303e6f",
   "metadata": {},
   "outputs": [
    {
     "data": {
      "text/plain": [
       "True"
      ]
     },
     "execution_count": 1,
     "metadata": {},
     "output_type": "execute_result"
    }
   ],
   "source": [
    "1 in [1, 2, 3]"
   ]
  },
  {
   "cell_type": "code",
   "execution_count": 2,
   "id": "f8494b47",
   "metadata": {},
   "outputs": [
    {
     "data": {
      "text/plain": [
       "False"
      ]
     },
     "execution_count": 2,
     "metadata": {},
     "output_type": "execute_result"
    }
   ],
   "source": [
    "4 in [1, 2, 3] # 4 not in [1, 2, 3] 도 가능 = 출력값 True"
   ]
  },
  {
   "cell_type": "code",
   "execution_count": 4,
   "id": "16301717",
   "metadata": {},
   "outputs": [
    {
     "name": "stdout",
     "output_type": "stream",
     "text": [
      "a는 1\n"
     ]
    }
   ],
   "source": [
    "a = 1\n",
    "if a == 1:print(\"a는 1\")"
   ]
  },
  {
   "cell_type": "code",
   "execution_count": 9,
   "id": "336061e5",
   "metadata": {},
   "outputs": [
    {
     "name": "stdout",
     "output_type": "stream",
     "text": [
      "나무를 0번 찍었습니다.\n",
      "나무를 1번 찍었습니다.\n",
      "나무를 2번 찍었습니다.\n",
      "나무를 3번 찍었습니다.\n",
      "나무를 4번 찍었습니다.\n",
      "나무를 5번 찍었습니다.\n",
      "나무를 6번 찍었습니다.\n",
      "나무를 7번 찍었습니다.\n",
      "나무를 8번 찍었습니다.\n",
      "나무를 9번 찍었습니다.\n",
      "나무를 10번 찍었습니다.\n",
      "나무 넘어갑니다\n"
     ]
    }
   ],
   "source": [
    "treeHit = 0\n",
    "while treeHit <= 10:\n",
    "    print(\"나무를 \"+str(treeHit)+\"번 찍었습니다.\" )\n",
    "    if treeHit == 10: print(\"나무 넘어갑니다\")\n",
    "    treeHit += 1 #treeHit = treeHit + 1"
   ]
  },
  {
   "cell_type": "code",
   "execution_count": 12,
   "id": "3472a697",
   "metadata": {},
   "outputs": [
    {
     "name": "stdout",
     "output_type": "stream",
     "text": [
      "정수를 입력하세요100\n",
      "101\n"
     ]
    }
   ],
   "source": [
    "a = input(\"정수를 입력하세요\") # 입력할 수 있는 빈칸 생성\n",
    "a = int(a) + 1 # int를 이용해서 숫자처리\n",
    "print(a)"
   ]
  },
  {
   "cell_type": "code",
   "execution_count": null,
   "id": "f63a0616",
   "metadata": {},
   "outputs": [
    {
     "name": "stdout",
     "output_type": "stream",
     "text": [
      "온도를 입력하세요 단, 입력을 멈추려면 -500을 입력하세요\n"
     ]
    }
   ],
   "source": [
    "list_a = []\n",
    "count = 1 # count = 0\n",
    "print(\"온도를 입력하세요 단, 입력을 멈추려면 -500을 입력하세요\")\n",
    "while True: # count < 4:\n",
    "    recieved = input(\"온도를 입력하세요\")\n",
    "    if recieved == \"-500\": break # break 걸릴 수 있게끔 입력값 처리 주의\n",
    "    if recieved > \"50\" or recieved < \"-40\": continue\n",
    "    recieved = int(recieved)\n",
    "    list_a.append(recieved)\n",
    "    count += 1\n",
    "print (list_a)"
   ]
  },
  {
   "cell_type": "code",
   "execution_count": 3,
   "id": "a82ea37f",
   "metadata": {},
   "outputs": [
    {
     "name": "stdout",
     "output_type": "stream",
     "text": [
      "range(0, 10)\n"
     ]
    }
   ],
   "source": [
    "a = range(10)\n",
    "print(a)"
   ]
  },
  {
   "cell_type": "code",
   "execution_count": 5,
   "id": "865126d3",
   "metadata": {},
   "outputs": [
    {
     "name": "stdout",
     "output_type": "stream",
     "text": [
      "0 1 2 3 4 5 6 7 8 9 "
     ]
    }
   ],
   "source": [
    "for i in range(10):\n",
    "    print(i, end=\" \") # end =\" \" 출력값 가로로 줄바꿈"
   ]
  },
  {
   "cell_type": "code",
   "execution_count": 6,
   "id": "15ec156f",
   "metadata": {},
   "outputs": [
    {
     "name": "stdout",
     "output_type": "stream",
     "text": [
      "5 6 7 8 9 "
     ]
    }
   ],
   "source": [
    "for i in range(5, 10):\n",
    "    print(i, end=\" \")"
   ]
  },
  {
   "cell_type": "code",
   "execution_count": 8,
   "id": "41d0d36b",
   "metadata": {
    "scrolled": true
   },
   "outputs": [
    {
     "name": "stdout",
     "output_type": "stream",
     "text": [
      "1 3 5 7 9 "
     ]
    }
   ],
   "source": [
    "for i in range(1, 11, 2): #range(N부터, N까지, N간격으로)\n",
    "    print(i, end=\" \")"
   ]
  },
  {
   "cell_type": "code",
   "execution_count": 3,
   "id": "be9b2e5c",
   "metadata": {
    "scrolled": true
   },
   "outputs": [
    {
     "name": "stdout",
     "output_type": "stream",
     "text": [
      "10 9 8 7 6 5 4 3 2 1 "
     ]
    }
   ],
   "source": [
    "for i in range(10, 0, -1): #range로 반대로 출력\n",
    "    print(i, end=\" \")"
   ]
  },
  {
   "cell_type": "code",
   "execution_count": 4,
   "id": "8f911405",
   "metadata": {},
   "outputs": [
    {
     "name": "stdout",
     "output_type": "stream",
     "text": [
      "1 4 7 10 "
     ]
    }
   ],
   "source": [
    "a = [1, 4, 7, 10]\n",
    "for i in a:\n",
    "    print(i, end=\" \")"
   ]
  },
  {
   "cell_type": "code",
   "execution_count": 9,
   "id": "088e9dd6",
   "metadata": {},
   "outputs": [
    {
     "name": "stdout",
     "output_type": "stream",
     "text": [
      "[[1, 2, 3, 4, 1, 2, 3, 4, 1, 2, 3, 4], [1, 2, 3, 4, 1, 2, 3, 4, 1, 2, 3, 4], [1, 2, 3, 4, 1, 2, 3, 4, 1, 2, 3, 4], [1, 2, 3, 4, 1, 2, 3, 4, 1, 2, 3, 4]] "
     ]
    }
   ],
   "source": [
    "a = [1, 2, 3, 4]\n",
    "res = []\n",
    "for i in a:\n",
    "    res.append(a*3)\n",
    "print(res, end=\" \")"
   ]
  },
  {
   "cell_type": "code",
   "execution_count": 10,
   "id": "5767e8cb",
   "metadata": {},
   "outputs": [
    {
     "name": "stdout",
     "output_type": "stream",
     "text": [
      "[3, 6, 9, 12] "
     ]
    }
   ],
   "source": [
    "a = [1, 2, 3, 4]\n",
    "res = [num*3 for num in a]\n",
    "print(res, end=\" \")"
   ]
  },
  {
   "cell_type": "code",
   "execution_count": 11,
   "id": "34d7d7a4",
   "metadata": {},
   "outputs": [
    {
     "name": "stdout",
     "output_type": "stream",
     "text": [
      "[6, 12] "
     ]
    }
   ],
   "source": [
    "a = [1, 2, 3, 4]\n",
    "res = [num*3 for num in a if num % 2 == 0]\n",
    "print(res, end=\" \")"
   ]
  },
  {
   "cell_type": "code",
   "execution_count": 26,
   "id": "39747215",
   "metadata": {},
   "outputs": [
    {
     "name": "stdout",
     "output_type": "stream",
     "text": [
      "[6, 12] "
     ]
    }
   ],
   "source": [
    "a = [1, 2, 3, 4]\n",
    "res = []\n",
    "for i in a:\n",
    "    if i % 2 == 0:\n",
    "        res.append(i*3)\n",
    "print(res, end=\" \")"
   ]
  },
  {
   "cell_type": "code",
   "execution_count": 28,
   "id": "43ee607a",
   "metadata": {},
   "outputs": [
    {
     "name": "stdout",
     "output_type": "stream",
     "text": [
      "166833\n"
     ]
    }
   ],
   "source": [
    "result = 0\n",
    "i = 1\n",
    "while i <= 1000:\n",
    "    if i % 3 == 0:\n",
    "        result += i\n",
    "    i += 1\n",
    "print(result)"
   ]
  },
  {
   "cell_type": "code",
   "execution_count": 4,
   "id": "025114b6",
   "metadata": {},
   "outputs": [
    {
     "name": "stdout",
     "output_type": "stream",
     "text": [
      "#\n",
      "##\n",
      "###\n",
      "####\n",
      "#####\n"
     ]
    }
   ],
   "source": [
    "i = 0\n",
    "while True:\n",
    "    i += 1\n",
    "    if i > 5:break\n",
    "    print(i*\"#\")"
   ]
  },
  {
   "cell_type": "code",
   "execution_count": 7,
   "id": "575db6cd",
   "metadata": {},
   "outputs": [
    {
     "name": "stdout",
     "output_type": "stream",
     "text": [
      "####\n",
      "###\n",
      "##\n",
      "#\n"
     ]
    }
   ],
   "source": [
    "i = 5\n",
    "while True:\n",
    "    i += -1\n",
    "    if i < 1:break\n",
    "    print(i*\"#\")"
   ]
  },
  {
   "cell_type": "code",
   "execution_count": 16,
   "id": "f331806b",
   "metadata": {
    "scrolled": true
   },
   "outputs": [
    {
     "name": "stdout",
     "output_type": "stream",
     "text": [
      "#\n",
      "##\n",
      "###\n",
      "####\n",
      "#####\n"
     ]
    }
   ],
   "source": [
    "i = 0 ## 반복문 이중으로 사용하기\n",
    "while True:\n",
    "    i += 1\n",
    "    if i > 5:break\n",
    "    for j in range(i): #print(\"*\"*i)\n",
    "        print(\"#\", end=\"\")\n",
    "    print(\"\")"
   ]
  },
  {
   "cell_type": "code",
   "execution_count": 39,
   "id": "1de1b568",
   "metadata": {
    "collapsed": true
   },
   "outputs": [
    {
     "name": "stdout",
     "output_type": "stream",
     "text": [
      "1 2 3 4 5 6 7 8 9 10 11 12 13 14 15 16 17 18 19 20 21 22 23 24 25 26 27 28 29 30 31 32 33 34 35 36 37 38 39 40 41 42 43 44 45 46 47 48 49 50 51 52 53 54 55 56 57 58 59 60 61 62 63 64 65 66 67 68 69 70 71 72 73 74 75 76 77 78 79 80 81 82 83 84 85 86 87 88 89 90 91 92 93 94 95 96 97 98 99 100 "
     ]
    }
   ],
   "source": [
    "for i in range(1,101):\n",
    "    print(i, end=\" \")"
   ]
  },
  {
   "cell_type": "code",
   "execution_count": 28,
   "id": "c34d5a04",
   "metadata": {},
   "outputs": [
    {
     "name": "stdout",
     "output_type": "stream",
     "text": [
      "79.0\n"
     ]
    }
   ],
   "source": [
    "A = [70, 60, 55, 75, 95, 90, 80, 80, 85, 100]\n",
    "total = 0\n",
    "for score in A:\n",
    "    total += score\n",
    "average = total / len(A)\n",
    "print(average)"
   ]
  },
  {
   "cell_type": "code",
   "execution_count": 50,
   "id": "ec624e27",
   "metadata": {
    "collapsed": true
   },
   "outputs": [
    {
     "name": "stdout",
     "output_type": "stream",
     "text": [
      "60 59 58 57 56 55 54 53 52 51 50 49 48 47 46 45 44 43 42 41 40 39 38 37 36 35 34 33 32 31 30 29 28 27 26 25 24 23 22 21 20 19 18 17 16 15 14 13 12 11 10 9 8 7 6 5 4 3 2 1 0 \n",
      "발사!\n"
     ]
    }
   ],
   "source": [
    "# 방법 1\n",
    "i = 61 \n",
    "while True:\n",
    "    i -= 1\n",
    "    if i < 0:break\n",
    "    print(i, end=\" \")\n",
    "print(\"\\n발사!\")"
   ]
  },
  {
   "cell_type": "code",
   "execution_count": 58,
   "id": "a6bbe7c3",
   "metadata": {
    "collapsed": true
   },
   "outputs": [
    {
     "name": "stdout",
     "output_type": "stream",
     "text": [
      "60 59 58 57 56 55 54 53 52 51 50 49 48 47 46 45 44 43 42 41 40 39 38 37 36 35 34 33 32 31 30 29 28 27 26 25 24 23 22 21 20 19 18 17 16 15 14 13 12 11 10 9 8 7 6 5 4 3 2 1 0 \n",
      "발사!\n"
     ]
    }
   ],
   "source": [
    "# 방법 2\n",
    "num = 60\n",
    "while num >=0:\n",
    "    print(num, end=\" \")\n",
    "    num -= 1\n",
    "print(\"\\n발사!\")"
   ]
  },
  {
   "cell_type": "code",
   "execution_count": 59,
   "id": "9e02736c",
   "metadata": {
    "collapsed": true
   },
   "outputs": [
    {
     "name": "stdout",
     "output_type": "stream",
     "text": [
      "60 59 58 57 56 55 54 53 52 51 50 49 48 47 46 45 44 43 42 41 40 39 38 37 36 35 34 33 32 31 30 29 28 27 26 25 24 23 22 21 20 19 18 17 16 15 14 13 12 11 10 9 8 7 6 5 4 3 2 1 0 \n",
      "발사!\n"
     ]
    }
   ],
   "source": [
    "# 방법 3\n",
    "for i in range(60, -1, -1):\n",
    "    print (i, end=\" \")\n",
    "#print(\"\") 이렇게 해도 가능\n",
    "print(\"\\n발사!\")"
   ]
  },
  {
   "cell_type": "code",
   "execution_count": 73,
   "id": "03b71ece",
   "metadata": {
    "collapsed": true
   },
   "outputs": [
    {
     "name": "stdout",
     "output_type": "stream",
     "text": [
      "1 2 3 4 5 6 7 8 9 \n",
      "2 4 6 8 10 12 14 16 18 \n",
      "3 6 9 12 15 18 21 24 27 \n",
      "4 8 12 16 20 24 28 32 36 \n",
      "5 10 15 20 25 30 35 40 45 \n",
      "6 12 18 24 30 36 42 48 54 \n",
      "7 14 21 28 35 42 49 56 63 \n",
      "8 16 24 32 40 48 56 64 72 \n",
      "9 18 27 36 45 54 63 72 81 \n"
     ]
    }
   ],
   "source": [
    "# 방법 1\n",
    "for i in range(1, 10):\n",
    "    for j in range(1, 10):\n",
    "        print(i*j, end=\" \")\n",
    "    print()"
   ]
  },
  {
   "cell_type": "code",
   "execution_count": 10,
   "id": "be6fc265",
   "metadata": {
    "collapsed": true
   },
   "outputs": [
    {
     "name": "stdout",
     "output_type": "stream",
     "text": [
      "1 2 3 4 5 6 7 8 9 \n",
      " \n",
      "2 4 6 8 10 12 14 16 18 \n",
      " \n",
      "3 6 9 12 15 18 21 24 27 \n",
      " \n",
      "4 8 12 16 20 24 28 32 36 \n",
      " \n",
      "5 10 15 20 25 30 35 40 45 \n",
      " \n",
      "6 12 18 24 30 36 42 48 54 \n",
      " \n",
      "7 14 21 28 35 42 49 56 63 \n",
      " \n",
      "8 16 24 32 40 48 56 64 72 \n",
      " \n",
      "9 18 27 36 45 54 63 72 81 \n",
      " \n"
     ]
    }
   ],
   "source": [
    "# 방법 2\n",
    "i = 1\n",
    "while i <= 9:\n",
    "    for j in range(1,10):\n",
    "        print(i*j, end=\" \")\n",
    "    i+=1\n",
    "    print(\"\\n \")"
   ]
  },
  {
   "cell_type": "code",
   "execution_count": 16,
   "id": "0141a834",
   "metadata": {
    "scrolled": true
   },
   "outputs": [
    {
     "name": "stdout",
     "output_type": "stream",
     "text": [
      "1 2 3 4 5 6 7 8 9 \n",
      " \n",
      "2 4 6 8 10 12 14 16 18 \n",
      " \n",
      "3 6 9 12 15 18 21 24 27 \n",
      " \n",
      "4 8 12 16 20 24 28 32 36 \n",
      " \n",
      "5 10 15 20 25 30 35 40 45 \n",
      " \n",
      "6 12 18 24 30 36 42 48 54 \n",
      " \n",
      "7 14 21 28 35 42 49 56 63 \n",
      " \n",
      "8 16 24 32 40 48 56 64 72 \n",
      " \n",
      "9 18 27 36 45 54 63 72 81 \n",
      " \n"
     ]
    }
   ],
   "source": [
    "# 방법 3\n",
    "i = 1\n",
    "while i <= 9:\n",
    "    j=1\n",
    "    while j <= 9:\n",
    "        print(i*j, end=\" \")\n",
    "        j += 1\n",
    "    print(\"\\n \")\n",
    "    i +=1"
   ]
  },
  {
   "cell_type": "code",
   "execution_count": 14,
   "id": "323a130d",
   "metadata": {},
   "outputs": [
    {
     "name": "stdout",
     "output_type": "stream",
     "text": [
      "1\n",
      "2\n",
      "3\n",
      "4\n",
      "5\n",
      "6\n",
      "7\n"
     ]
    }
   ],
   "source": [
    "i = 0\n",
    "while True:\n",
    "    i += 1\n",
    "    if i > 7:break\n",
    "    print(i)\n",
    "    "
   ]
  },
  {
   "cell_type": "code",
   "execution_count": 19,
   "id": "dfad817e",
   "metadata": {},
   "outputs": [
    {
     "name": "stdout",
     "output_type": "stream",
     "text": [
      "1 * * * * * * \n",
      "1 2 * * * * * \n",
      "1 2 3 * * * * \n",
      "1 2 3 4 * * * \n",
      "1 2 3 4 5 * * \n",
      "1 2 3 4 5 6 * \n",
      "1 2 3 4 5 6 7 \n"
     ]
    }
   ],
   "source": [
    "# 방법 1\n",
    "for i in range(1,a+1):\n",
    "    for j in range(1,8):\n",
    "        if i >= j:\n",
    "            print(j, end =\" \")\n",
    "        else:\n",
    "            print(\"*\", end=\" \")\n",
    "    print('')"
   ]
  },
  {
   "cell_type": "code",
   "execution_count": 16,
   "id": "b2fe2756",
   "metadata": {},
   "outputs": [
    {
     "name": "stdout",
     "output_type": "stream",
     "text": [
      "행수입력7\n",
      "1****** \n",
      "12***** \n",
      "123**** \n",
      "1234*** \n",
      "12345** \n",
      "123456* \n",
      "1234567 \n"
     ]
    }
   ],
   "source": [
    "# 방법 1\n",
    "row = int(input(\"행수입력\"))\n",
    "for i in range(1,row+1):\n",
    "    for j in range(1,i+1):\n",
    "        print(j, end=\"\")\n",
    "    print((7-i)*\"*\", end=\" \")\n",
    "    print('')"
   ]
  },
  {
   "cell_type": "code",
   "execution_count": 20,
   "id": "96194f63",
   "metadata": {},
   "outputs": [
    {
     "name": "stdout",
     "output_type": "stream",
     "text": [
      "몇개?7\n",
      "1 * * * * * * \n",
      "1 2 * * * * * \n",
      "1 2 3 * * * * \n",
      "1 2 3 4 * * * \n",
      "1 2 3 4 5 * * \n",
      "1 2 3 4 5 6 * \n",
      "1 2 3 4 5 6 7 \n"
     ]
    }
   ],
   "source": [
    "# 정답 1\n",
    "num = int(input(\"몇개?\"))\n",
    "for i in range(1, num+1):\n",
    "    #숫자 출력 파트\n",
    "    for j in range(1, i+1):\n",
    "        print(j, end=\" \")\n",
    "    # 별 출력 파트\n",
    "    for j in range(1, 8-i):\n",
    "        print(\"*\", end=\" \")\n",
    "    print('')"
   ]
  },
  {
   "cell_type": "code",
   "execution_count": null,
   "id": "7960cbdb",
   "metadata": {},
   "outputs": [],
   "source": []
  }
 ],
 "metadata": {
  "kernelspec": {
   "display_name": "Python 3",
   "language": "python",
   "name": "python3"
  },
  "language_info": {
   "codemirror_mode": {
    "name": "ipython",
    "version": 3
   },
   "file_extension": ".py",
   "mimetype": "text/x-python",
   "name": "python",
   "nbconvert_exporter": "python",
   "pygments_lexer": "ipython3",
   "version": "3.8.8"
  }
 },
 "nbformat": 4,
 "nbformat_minor": 5
}
