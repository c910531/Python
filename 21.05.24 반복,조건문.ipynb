{
 "cells": [
  {
   "cell_type": "code",
   "execution_count": 1,
   "id": "ecee13d4",
   "metadata": {},
   "outputs": [
    {
     "data": {
      "text/plain": [
       "True"
      ]
     },
     "execution_count": 1,
     "metadata": {},
     "output_type": "execute_result"
    }
   ],
   "source": [
    "1 in [1, 2, 3]"
   ]
  },
  {
   "cell_type": "code",
   "execution_count": 2,
   "id": "618c9adf",
   "metadata": {},
   "outputs": [
    {
     "data": {
      "text/plain": [
       "False"
      ]
     },
     "execution_count": 2,
     "metadata": {},
     "output_type": "execute_result"
    }
   ],
   "source": [
    "4 in [1, 2, 3] # 4 not in [1, 2, 3] 도 가능 = 출력값 True"
   ]
  },
  {
   "cell_type": "code",
   "execution_count": 4,
   "id": "584e356f",
   "metadata": {},
   "outputs": [
    {
     "name": "stdout",
     "output_type": "stream",
     "text": [
      "a는 1\n"
     ]
    }
   ],
   "source": [
    "a = 1\n",
    "if a == 1:print(\"a는 1\")"
   ]
  },
  {
   "cell_type": "code",
   "execution_count": 9,
   "id": "b5773db3",
   "metadata": {},
   "outputs": [
    {
     "name": "stdout",
     "output_type": "stream",
     "text": [
      "나무를 0번 찍었습니다.\n",
      "나무를 1번 찍었습니다.\n",
      "나무를 2번 찍었습니다.\n",
      "나무를 3번 찍었습니다.\n",
      "나무를 4번 찍었습니다.\n",
      "나무를 5번 찍었습니다.\n",
      "나무를 6번 찍었습니다.\n",
      "나무를 7번 찍었습니다.\n",
      "나무를 8번 찍었습니다.\n",
      "나무를 9번 찍었습니다.\n",
      "나무를 10번 찍었습니다.\n",
      "나무 넘어갑니다\n"
     ]
    }
   ],
   "source": [
    "treeHit = 0\n",
    "while treeHit <= 10:\n",
    "    print(\"나무를 \"+str(treeHit)+\"번 찍었습니다.\" )\n",
    "    if treeHit == 10: print(\"나무 넘어갑니다\")\n",
    "    treeHit += 1 #treeHit = treeHit + 1"
   ]
  },
  {
   "cell_type": "code",
   "execution_count": 12,
   "id": "9e7839db",
   "metadata": {},
   "outputs": [
    {
     "name": "stdout",
     "output_type": "stream",
     "text": [
      "정수를 입력하세요100\n",
      "101\n"
     ]
    }
   ],
   "source": [
    "a = input(\"정수를 입력하세요\") # 입력할 수 있는 빈칸 생성\n",
    "a = int(a) + 1 # int를 이용해서 숫자처리\n",
    "print(a)"
   ]
  },
  {
   "cell_type": "code",
   "execution_count": null,
   "id": "960f1a07",
   "metadata": {},
   "outputs": [
    {
     "name": "stdout",
     "output_type": "stream",
     "text": [
      "온도를 입력하세요 단, 입력을 멈추려면 -500을 입력하세요\n"
     ]
    }
   ],
   "source": [
    "list_a = []\n",
    "count = 1 # count = 0\n",
    "print(\"온도를 입력하세요 단, 입력을 멈추려면 -500을 입력하세요\")\n",
    "while True: # count < 4:\n",
    "    recieved = input(\"온도를 입력하세요\")\n",
    "    if recieved == \"-500\": break # break 걸릴 수 있게끔 입력값 처리 주의\n",
    "    if recieved > \"50\" or recieved < \"-40\": continue\n",
    "    recieved = int(recieved)\n",
    "    list_a.append(recieved)\n",
    "    count += 1\n",
    "print (list_a)"
   ]
  },
  {
   "cell_type": "code",
   "execution_count": 3,
   "id": "2e734009",
   "metadata": {},
   "outputs": [
    {
     "name": "stdout",
     "output_type": "stream",
     "text": [
      "range(0, 10)\n"
     ]
    }
   ],
   "source": [
    "a = range(10)\n",
    "print(a)"
   ]
  },
  {
   "cell_type": "code",
   "execution_count": 5,
   "id": "1cfdbc30",
   "metadata": {},
   "outputs": [
    {
     "name": "stdout",
     "output_type": "stream",
     "text": [
      "0 1 2 3 4 5 6 7 8 9 "
     ]
    }
   ],
   "source": [
    "for i in range(10):\n",
    "    print(i, end=\" \") # end =\" \" 출력값 가로로 줄바꿈"
   ]
  },
  {
   "cell_type": "code",
   "execution_count": 6,
   "id": "f82a06f5",
   "metadata": {},
   "outputs": [
    {
     "name": "stdout",
     "output_type": "stream",
     "text": [
      "5 6 7 8 9 "
     ]
    }
   ],
   "source": [
    "for i in range(5, 10):\n",
    "    print(i, end=\" \")"
   ]
  },
  {
   "cell_type": "code",
   "execution_count": 8,
   "id": "a108edfd",
   "metadata": {
    "scrolled": true
   },
   "outputs": [
    {
     "name": "stdout",
     "output_type": "stream",
     "text": [
      "1 3 5 7 9 "
     ]
    }
   ],
   "source": [
    "for i in range(1, 11, 2): #range(N부터, N까지, N간격으로)\n",
    "    print(i, end=\" \")"
   ]
  },
  {
   "cell_type": "code",
   "execution_count": 3,
   "id": "b2b32b17",
   "metadata": {
    "scrolled": true
   },
   "outputs": [
    {
     "name": "stdout",
     "output_type": "stream",
     "text": [
      "10 9 8 7 6 5 4 3 2 1 "
     ]
    }
   ],
   "source": [
    "for i in range(10, 0, -1): #range로 반대로 출력\n",
    "    print(i, end=\" \")"
   ]
  },
  {
   "cell_type": "code",
   "execution_count": 4,
   "id": "9b12341d",
   "metadata": {},
   "outputs": [
    {
     "name": "stdout",
     "output_type": "stream",
     "text": [
      "1 4 7 10 "
     ]
    }
   ],
   "source": [
    "a = [1, 4, 7, 10]\n",
    "for i in a:\n",
    "    print(i, end=\" \")"
   ]
  },
  {
   "cell_type": "code",
   "execution_count": null,
   "id": "8cd9b238",
   "metadata": {},
   "outputs": [],
   "source": []
  }
 ],
 "metadata": {
  "kernelspec": {
   "display_name": "Python 3",
   "language": "python",
   "name": "python3"
  },
  "language_info": {
   "codemirror_mode": {
    "name": "ipython",
    "version": 3
   },
   "file_extension": ".py",
   "mimetype": "text/x-python",
   "name": "python",
   "nbconvert_exporter": "python",
   "pygments_lexer": "ipython3",
   "version": "3.8.8"
  }
 },
 "nbformat": 4,
 "nbformat_minor": 5
}
